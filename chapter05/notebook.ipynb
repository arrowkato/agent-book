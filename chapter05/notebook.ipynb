{
 "cells": [
  {
   "cell_type": "markdown",
   "metadata": {},
   "source": [
    "# 5. LangChain Expression Language（LCEL）徹底解説\n"
   ]
  },
  {
   "cell_type": "code",
   "execution_count": null,
   "metadata": {
    "execution": {
     "iopub.execute_input": "2024-06-28T02:32:34.489407Z",
     "iopub.status.busy": "2024-06-28T02:32:34.488775Z",
     "iopub.status.idle": "2024-06-28T02:32:34.491583Z",
     "shell.execute_reply": "2024-06-28T02:32:34.491086Z"
    }
   },
   "outputs": [],
   "source": [
    "# google colab 用なのでコメントアウト\n",
    "# import os\n",
    "# from google.colab import userdata\n",
    "\n",
    "# os.environ[\"OPENAI_API_KEY\"] = userdata.get(\"OPENAI_API_KEY\")\n",
    "# os.environ[\"LANGCHAIN_TRACING_V2\"] = \"true\"\n",
    "# os.environ[\"LANGCHAIN_ENDPOINT\"] = \"https://api.smith.langchain.com\"\n",
    "# os.environ[\"LANGCHAIN_API_KEY\"] = userdata.get(\"LANGCHAIN_API_KEY\")\n",
    "# os.environ[\"LANGCHAIN_PROJECT\"] = \"agent-book\""
   ]
  },
  {
   "cell_type": "code",
   "execution_count": null,
   "metadata": {},
   "outputs": [],
   "source": [
    "# google colab 用なのでコメントアウト\n",
    "# !pip install langchain-core==0.3.0 langchain-openai==0.2.0 langchain-community==0.3.0"
   ]
  },
  {
   "cell_type": "code",
   "execution_count": null,
   "metadata": {},
   "outputs": [
    {
     "data": {
      "text/plain": [
       "True"
      ]
     },
     "execution_count": 1,
     "metadata": {},
     "output_type": "execute_result"
    }
   ],
   "source": [
    "from dotenv import load_dotenv\n",
    "\n",
    "# 事前に .env ファイルを作って、OPENAI_API_KEY, LANGCHAIN_ENDPOINT, TAVILY_API_KEY などを設定してください\n",
    "load_dotenv()"
   ]
  },
  {
   "cell_type": "markdown",
   "metadata": {},
   "source": [
    "## 5.1. Runnable と RunnableSequence―LCEL の最も基本的な構成要素\n"
   ]
  },
  {
   "cell_type": "code",
   "execution_count": 6,
   "metadata": {
    "execution": {
     "iopub.execute_input": "2024-06-28T02:33:12.290335Z",
     "iopub.status.busy": "2024-06-28T02:33:12.290156Z",
     "iopub.status.idle": "2024-06-28T02:33:12.344661Z",
     "shell.execute_reply": "2024-06-28T02:33:12.344241Z"
    }
   },
   "outputs": [],
   "source": [
    "from langchain_core.output_parsers import StrOutputParser\n",
    "from langchain_core.prompts import ChatPromptTemplate\n",
    "from langchain_openai import ChatOpenAI\n",
    "\n",
    "prompt = ChatPromptTemplate.from_messages(\n",
    "    [\n",
    "        (\"system\", \"ユーザーが入力した料理のレシピを考えてください。\"),\n",
    "        (\"human\", \"{dish}\"),\n",
    "    ]\n",
    ")\n",
    "\n",
    "model = ChatOpenAI(model=\"gpt-4o-mini\", temperature=0)\n",
    "\n",
    "output_parser = StrOutputParser()"
   ]
  },
  {
   "cell_type": "code",
   "execution_count": 3,
   "metadata": {
    "execution": {
     "iopub.execute_input": "2024-06-28T02:33:12.346689Z",
     "iopub.status.busy": "2024-06-28T02:33:12.346510Z",
     "iopub.status.idle": "2024-06-28T02:33:21.108437Z",
     "shell.execute_reply": "2024-06-28T02:33:21.108007Z"
    }
   },
   "outputs": [
    {
     "name": "stdout",
     "output_type": "stream",
     "text": [
      "カレーのレシピをご紹介します。シンプルで美味しい基本のカレーを作りましょう。\n",
      "\n",
      "### 材料（4人分）\n",
      "- 鶏肉（もも肉または胸肉）: 400g\n",
      "- 玉ねぎ: 2個\n",
      "- にんじん: 1本\n",
      "- じゃがいも: 2個\n",
      "- カレールー: 1箱（約200g）\n",
      "- サラダ油: 大さじ2\n",
      "- 水: 800ml\n",
      "- 塩: 適量\n",
      "- 胡椒: 適量\n",
      "- お好みでガーリックパウダーや生姜: 適量\n",
      "\n",
      "### 作り方\n",
      "1. **材料の下ごしらえ**:\n",
      "   - 鶏肉は一口大に切り、塩と胡椒をふっておきます。\n",
      "   - 玉ねぎは薄切り、にんじんは輪切り、じゃがいもは一口大に切ります。\n",
      "\n",
      "2. **炒める**:\n",
      "   - 大きめの鍋にサラダ油を熱し、玉ねぎを中火で炒めます。玉ねぎが透明になるまで炒めます。\n",
      "   - 鶏肉を加え、表面が白くなるまで炒めます。\n",
      "\n",
      "3. **野菜を加える**:\n",
      "   - にんじんとじゃがいもを鍋に加え、全体をよく混ぜます。\n",
      "\n",
      "4. **煮る**:\n",
      "   - 水を加え、強火で煮立たせます。煮立ったら、アクを取り除き、中火にして蓋をし、約15分煮ます。\n",
      "\n",
      "5. **カレールーを加える**:\n",
      "   - 火を止めてカレールーを加え、よく溶かします。再び弱火にし、10分ほど煮込みます。お好みでガーリックパウダーや生姜を加えても良いです。\n",
      "\n",
      "6. **味を調える**:\n",
      "   - 最後に味を見て、必要であれば塩で調整します。\n",
      "\n",
      "7. **盛り付け**:\n",
      "   - ご飯と一緒に盛り付けて、お好みで福神漬けやらっきょうを添えて完成です。\n",
      "\n",
      "### おすすめのトッピング\n",
      "- 煮卵\n",
      "- チーズ\n",
      "- 目玉焼き\n",
      "- パクチー\n",
      "\n",
      "この基本のカレーはアレンジがしやすいので、野菜や肉を変えて楽しんでください！\n"
     ]
    }
   ],
   "source": [
    "prompt_value = prompt.invoke({\"dish\": \"カレー\"})\n",
    "ai_message = model.invoke(prompt_value)\n",
    "output = output_parser.invoke(ai_message)\n",
    "\n",
    "print(output)"
   ]
  },
  {
   "cell_type": "code",
   "execution_count": 4,
   "metadata": {
    "execution": {
     "iopub.execute_input": "2024-06-28T02:33:21.110332Z",
     "iopub.status.busy": "2024-06-28T02:33:21.110173Z",
     "iopub.status.idle": "2024-06-28T02:33:21.112634Z",
     "shell.execute_reply": "2024-06-28T02:33:21.112238Z"
    }
   },
   "outputs": [],
   "source": [
    "chain = prompt | model | output_parser"
   ]
  },
  {
   "cell_type": "code",
   "execution_count": 5,
   "metadata": {
    "execution": {
     "iopub.execute_input": "2024-06-28T02:33:21.114678Z",
     "iopub.status.busy": "2024-06-28T02:33:21.114418Z",
     "iopub.status.idle": "2024-06-28T02:33:26.539851Z",
     "shell.execute_reply": "2024-06-28T02:33:26.539250Z"
    }
   },
   "outputs": [
    {
     "name": "stdout",
     "output_type": "stream",
     "text": [
      "カレーのレシピをご紹介します。シンプルで美味しい基本のカレーを作りましょう。\n",
      "\n",
      "### 材料（4人分）\n",
      "- 鶏肉（もも肉または胸肉）: 400g\n",
      "- 玉ねぎ: 2個\n",
      "- にんじん: 1本\n",
      "- じゃがいも: 2個\n",
      "- カレールー: 1箱（約200g）\n",
      "- サラダ油: 大さじ2\n",
      "- 水: 800ml\n",
      "- 塩: 適量\n",
      "- 胡椒: 適量\n",
      "- お好みでガーリックパウダーや生姜: 適量\n",
      "\n",
      "### 作り方\n",
      "1. **材料の下ごしらえ**:\n",
      "   - 鶏肉は一口大に切り、塩と胡椒をふっておきます。\n",
      "   - 玉ねぎは薄切り、にんじんは輪切り、じゃがいもは一口大に切ります。\n",
      "\n",
      "2. **炒める**:\n",
      "   - 大きめの鍋にサラダ油を熱し、玉ねぎを中火で炒めます。玉ねぎが透明になるまで炒めます。\n",
      "   - 鶏肉を加え、表面が白くなるまで炒めます。\n",
      "\n",
      "3. **野菜を加える**:\n",
      "   - にんじんとじゃがいもを鍋に加え、全体をよく混ぜます。\n",
      "\n",
      "4. **煮る**:\n",
      "   - 水を加え、強火で煮立たせます。煮立ったら、アクを取り除き、蓋をして中火にし、約15分煮ます。\n",
      "\n",
      "5. **カレールーを加える**:\n",
      "   - 火を止めてカレールーを加え、よく溶かします。再び弱火にし、10分ほど煮込みます。お好みでガーリックパウダーや生姜を加えても良いです。\n",
      "\n",
      "6. **味を調える**:\n",
      "   - 最後に味を見て、必要に応じて塩で調整します。\n",
      "\n",
      "7. **盛り付け**:\n",
      "   - ご飯と一緒に盛り付けて、お好みで福神漬けやらっきょうを添えて完成です。\n",
      "\n",
      "### おすすめのトッピング\n",
      "- チーズ\n",
      "- 生卵（温泉卵や目玉焼き）\n",
      "- 青ねぎやパセリの刻んだもの\n",
      "\n",
      "この基本のカレーはアレンジがしやすいので、野菜や肉の種類を変えたり、スパイスを追加したりして、自分好みのカレーを楽しんでください！\n"
     ]
    }
   ],
   "source": [
    "output = chain.invoke({\"dish\": \"カレー\"})\n",
    "print(output)"
   ]
  },
  {
   "cell_type": "markdown",
   "metadata": {},
   "source": [
    "### Runnable の実行方法―invoke・stream・batch\n"
   ]
  },
  {
   "cell_type": "code",
   "execution_count": 6,
   "metadata": {
    "execution": {
     "iopub.execute_input": "2024-06-28T02:33:26.545129Z",
     "iopub.status.busy": "2024-06-28T02:33:26.544905Z",
     "iopub.status.idle": "2024-06-28T02:33:32.478679Z",
     "shell.execute_reply": "2024-06-28T02:33:32.478134Z"
    }
   },
   "outputs": [
    {
     "name": "stdout",
     "output_type": "stream",
     "text": [
      "カレーのレシピをご紹介します。シンプルで美味しい基本のカレーを作りましょう。\n",
      "\n",
      "### 材料（4人分）\n",
      "- 鶏肉（もも肉または胸肉）: 400g\n",
      "- 玉ねぎ: 2個\n",
      "- にんじん: 1本\n",
      "- じゃがいも: 2個\n",
      "- カレールー: 1箱（約200g）\n",
      "- サラダ油: 大さじ2\n",
      "- 水: 800ml\n",
      "- 塩: 適量\n",
      "- 胡椒: 適量\n",
      "- お好みでガーリックパウダーや生姜: 適量\n",
      "\n",
      "### 作り方\n",
      "1. **材料の下ごしらえ**:\n",
      "   - 鶏肉は一口大に切り、塩と胡椒を振っておきます。\n",
      "   - 玉ねぎは薄切り、にんじんは輪切り、じゃがいもは一口大に切ります。\n",
      "\n",
      "2. **炒める**:\n",
      "   - 大きめの鍋にサラダ油を熱し、玉ねぎを中火で炒めます。玉ねぎが透明になるまで炒めます。\n",
      "   - 鶏肉を加え、表面が白くなるまで炒めます。\n",
      "\n",
      "3. **野菜を加える**:\n",
      "   - にんじんとじゃがいもを鍋に加え、全体をよく混ぜます。\n",
      "\n",
      "4. **煮る**:\n",
      "   - 水を加え、強火で煮立たせます。煮立ったら、アクを取り除き、中火にして蓋をし、約15分煮ます。\n",
      "\n",
      "5. **カレールーを加える**:\n",
      "   - 火を止めてカレールーを加え、よく溶かします。再び弱火にし、10分ほど煮込みます。お好みでガーリックパウダーや生姜を加えて風味を調整します。\n",
      "\n",
      "6. **味を調える**:\n",
      "   - 最後に塩で味を調整し、全体がなじんだら火を止めます。\n",
      "\n",
      "7. **盛り付け**:\n",
      "   - ご飯と一緒に盛り付けて、お好みで福神漬けやらっきょうを添えて完成です。\n",
      "\n",
      "### おすすめのトッピング\n",
      "- チーズ\n",
      "- 生卵（温泉卵や目玉焼き）\n",
      "- パクチー\n",
      "\n",
      "この基本のカレーはアレンジがしやすいので、野菜や肉の種類を変えたり、スパイスを追加したりして、自分好みのカレーを楽しんでください！"
     ]
    }
   ],
   "source": [
    "chain = prompt | model | output_parser\n",
    "\n",
    "for chunk in chain.stream({\"dish\": \"カレー\"}):\n",
    "    print(chunk, end=\"\", flush=True)"
   ]
  },
  {
   "cell_type": "code",
   "execution_count": 7,
   "metadata": {
    "execution": {
     "iopub.execute_input": "2024-06-28T02:33:32.480592Z",
     "iopub.status.busy": "2024-06-28T02:33:32.480406Z",
     "iopub.status.idle": "2024-06-28T02:33:38.976064Z",
     "shell.execute_reply": "2024-06-28T02:33:38.974376Z"
    }
   },
   "outputs": [
    {
     "name": "stdout",
     "output_type": "stream",
     "text": [
      "['カレーのレシピをご紹介します。シンプルで美味しい基本のカレーを作りましょう。\\n\\n### 材料（4人分）\\n- 鶏肉（もも肉または胸肉）: 400g\\n- 玉ねぎ: 2個\\n- にんじん: 1本\\n- じゃがいも: 2個\\n- カレールー: 1箱（約200g）\\n- サラダ油: 大さじ2\\n- 水: 800ml\\n- 塩: 適量\\n- 胡椒: 適量\\n- お好みでガーリックパウダーや生姜: 適量\\n\\n### 作り方\\n1. **材料の下ごしらえ**:\\n   - 鶏肉は一口大に切り、塩と胡椒を振っておきます。\\n   - 玉ねぎは薄切り、にんじんは輪切り、じゃがいもは一口大に切ります。\\n\\n2. **炒める**:\\n   - 大きめの鍋にサラダ油を熱し、玉ねぎを中火で炒めます。玉ねぎが透明になるまで炒めます。\\n   - 鶏肉を加え、表面が白くなるまで炒めます。\\n\\n3. **野菜を加える**:\\n   - にんじんとじゃがいもを鍋に加え、全体をよく混ぜます。\\n\\n4. **煮る**:\\n   - 水を加え、強火で煮立たせます。煮立ったら、アクを取り除き、中火にして蓋をし、約15分煮ます。\\n\\n5. **カレールーを加える**:\\n   - カレールーを割り入れ、よく溶かします。さらに10分ほど煮込み、全体がなじんだら火を止めます。\\n\\n6. **味を調える**:\\n   - お好みで塩や胡椒で味を調整します。\\n\\n7. **盛り付け**:\\n   - ご飯と一緒に盛り付けて、お好みで福神漬けやらっきょうを添えて完成です。\\n\\n### おすすめのトッピング\\n- 煮卵\\n- チーズ\\n- ほうれん草のソテー\\n\\nこの基本のカレーは、具材を変えたり、スパイスを追加したりすることでアレンジが可能です。お好みのスタイルで楽しんでください！', 'うどんのレシピをご紹介します。シンプルで美味しい「かけうどん」の作り方です。\\n\\n### 材料（2人分）\\n- うどん（乾麺または生麺）: 2玉\\n- だし汁: 600ml\\n  - だしの素: 大さじ1（または昆布と鰹節を使って自家製だしを取る）\\n  - 水: 600ml\\n- 醤油: 大さじ2\\n- みりん: 大さじ1\\n- 塩: 少々\\n- トッピング（お好みで）:\\n  - ネギ（小口切り）\\n  - 天かす\\n  - かまぼこ\\n  - ほうれん草やわかめ\\n  - 生卵\\n\\n### 作り方\\n1. **だしを取る**:\\n   - 鍋に水を入れ、だしの素を加えて中火にかけます。自家製だしを使う場合は、昆布を水に浸けておき、沸騰直前に鰹節を加え、火を止めてしばらく置いてからこします。\\n\\n2. **だし汁を味付け**:\\n   - だしが取れたら、醤油、みりん、塩を加えて味を調えます。軽く煮立たせて、味がなじむようにします。\\n\\n3. **うどんを茹でる**:\\n   - 別の鍋にたっぷりの水を沸かし、うどんをパッケージの指示に従って茹でます。茹で上がったら、冷水でしっかりと洗い、ぬめりを取ります。\\n\\n4. **盛り付け**:\\n   - 茹でたうどんを器に盛り、熱々のだし汁をかけます。\\n\\n5. **トッピング**:\\n   - お好みのトッピングを加えます。ネギや天かす、かまぼこ、ほうれん草などを散らし、最後に生卵を落としても美味しいです。\\n\\n6. **完成**:\\n   - すぐに召し上がれ！お好みで七味唐辛子を振りかけても良いでしょう。\\n\\n### ポイント\\n- だしは自分の好みに合わせて調整してください。\\n- トッピングは季節の野菜やお好みの具材を使ってアレンジできます。\\n\\nぜひ、お試しください！']\n"
     ]
    }
   ],
   "source": [
    "chain = prompt | model | output_parser\n",
    "\n",
    "outputs = chain.batch([{\"dish\": \"カレー\"}, {\"dish\": \"うどん\"}])\n",
    "print(outputs)"
   ]
  },
  {
   "cell_type": "markdown",
   "metadata": {},
   "source": [
    "### LCEL の「|」で様々な Runnable を連鎖させる\n"
   ]
  },
  {
   "cell_type": "code",
   "execution_count": 8,
   "metadata": {
    "execution": {
     "iopub.execute_input": "2024-06-28T02:33:38.984366Z",
     "iopub.status.busy": "2024-06-28T02:33:38.983620Z",
     "iopub.status.idle": "2024-06-28T02:33:39.072077Z",
     "shell.execute_reply": "2024-06-28T02:33:39.071585Z"
    }
   },
   "outputs": [],
   "source": [
    "from langchain_core.output_parsers import StrOutputParser\n",
    "from langchain_core.prompts import ChatPromptTemplate\n",
    "from langchain_openai import ChatOpenAI\n",
    "\n",
    "model = ChatOpenAI(model=\"gpt-4o-mini\", temperature=0)\n",
    "\n",
    "output_parser = StrOutputParser()"
   ]
  },
  {
   "cell_type": "code",
   "execution_count": 9,
   "metadata": {
    "execution": {
     "iopub.execute_input": "2024-06-28T02:33:39.073954Z",
     "iopub.status.busy": "2024-06-28T02:33:39.073805Z",
     "iopub.status.idle": "2024-06-28T02:33:39.076746Z",
     "shell.execute_reply": "2024-06-28T02:33:39.076291Z"
    }
   },
   "outputs": [],
   "source": [
    "cot_prompt = ChatPromptTemplate.from_messages(\n",
    "    [\n",
    "        (\"system\", \"ユーザーの質問にステップバイステップで回答してください。\"),\n",
    "        (\"human\", \"{question}\"),\n",
    "    ]\n",
    ")\n",
    "\n",
    "cot_chain = cot_prompt | model | output_parser"
   ]
  },
  {
   "cell_type": "code",
   "execution_count": 10,
   "metadata": {
    "execution": {
     "iopub.execute_input": "2024-06-28T02:33:39.078597Z",
     "iopub.status.busy": "2024-06-28T02:33:39.078287Z",
     "iopub.status.idle": "2024-06-28T02:33:39.080804Z",
     "shell.execute_reply": "2024-06-28T02:33:39.080464Z"
    }
   },
   "outputs": [],
   "source": [
    "summarize_prompt = ChatPromptTemplate.from_messages(\n",
    "    [\n",
    "        (\"system\", \"ステップバイステップで考えた回答から結論だけ抽出してください。\"),\n",
    "        (\"human\", \"{text}\"),\n",
    "    ]\n",
    ")\n",
    "\n",
    "summarize_chain = summarize_prompt | model | output_parser"
   ]
  },
  {
   "cell_type": "code",
   "execution_count": 11,
   "metadata": {
    "execution": {
     "iopub.execute_input": "2024-06-28T02:33:39.082487Z",
     "iopub.status.busy": "2024-06-28T02:33:39.082344Z",
     "iopub.status.idle": "2024-06-28T02:33:42.144944Z",
     "shell.execute_reply": "2024-06-28T02:33:42.144538Z"
    }
   },
   "outputs": [
    {
     "name": "stdout",
     "output_type": "stream",
     "text": [
      "10 + 2 * 3 の答えは **16** です。\n"
     ]
    }
   ],
   "source": [
    "cot_summarize_chain = cot_chain | summarize_chain\n",
    "output = cot_summarize_chain.invoke({\"question\": \"10 + 2 * 3\"})\n",
    "print(output)"
   ]
  },
  {
   "cell_type": "markdown",
   "metadata": {},
   "source": [
    "## 5.2. RunnableLambda―任意の関数を Runnable にする\n"
   ]
  },
  {
   "cell_type": "code",
   "execution_count": 12,
   "metadata": {
    "execution": {
     "iopub.execute_input": "2024-06-28T02:33:42.146898Z",
     "iopub.status.busy": "2024-06-28T02:33:42.146736Z",
     "iopub.status.idle": "2024-06-28T02:33:42.204154Z",
     "shell.execute_reply": "2024-06-28T02:33:42.203681Z"
    }
   },
   "outputs": [],
   "source": [
    "from langchain_core.output_parsers import StrOutputParser\n",
    "from langchain_core.prompts import ChatPromptTemplate\n",
    "from langchain_openai import ChatOpenAI\n",
    "\n",
    "prompt = ChatPromptTemplate.from_messages(\n",
    "    [\n",
    "        (\"system\", \"You are a helpful assistant.\"),\n",
    "        (\"human\", \"{input}\"),\n",
    "    ]\n",
    ")\n",
    "\n",
    "model = ChatOpenAI(model=\"gpt-4o-mini\", temperature=0)\n",
    "\n",
    "output_parser = StrOutputParser()"
   ]
  },
  {
   "cell_type": "code",
   "execution_count": 13,
   "metadata": {
    "execution": {
     "iopub.execute_input": "2024-06-28T02:33:42.206082Z",
     "iopub.status.busy": "2024-06-28T02:33:42.205909Z",
     "iopub.status.idle": "2024-06-28T02:33:43.030226Z",
     "shell.execute_reply": "2024-06-28T02:33:43.029756Z"
    }
   },
   "outputs": [
    {
     "name": "stdout",
     "output_type": "stream",
     "text": [
      "HELLO! HOW CAN I ASSIST YOU TODAY?\n"
     ]
    }
   ],
   "source": [
    "from langchain_core.runnables import RunnableLambda\n",
    "\n",
    "\n",
    "def upper(text: str) -> str:\n",
    "    return text.upper()\n",
    "\n",
    "\n",
    "chain = prompt | model | output_parser | RunnableLambda(upper)\n",
    "\n",
    "ai_message = chain.invoke({\"input\": \"Hello!\"})\n",
    "print(ai_message)"
   ]
  },
  {
   "cell_type": "markdown",
   "metadata": {},
   "source": [
    "### chain デコレーターを使った RunnableLambda の実装\n"
   ]
  },
  {
   "cell_type": "code",
   "execution_count": 14,
   "metadata": {
    "execution": {
     "iopub.execute_input": "2024-06-28T02:33:43.032211Z",
     "iopub.status.busy": "2024-06-28T02:33:43.032048Z",
     "iopub.status.idle": "2024-06-28T02:33:43.501555Z",
     "shell.execute_reply": "2024-06-28T02:33:43.499283Z"
    }
   },
   "outputs": [
    {
     "name": "stdout",
     "output_type": "stream",
     "text": [
      "HELLO! HOW CAN I ASSIST YOU TODAY?\n"
     ]
    }
   ],
   "source": [
    "from langchain_core.runnables import chain\n",
    "\n",
    "\n",
    "@chain\n",
    "def upper(text: str) -> str:\n",
    "    return text.upper()\n",
    "\n",
    "\n",
    "chain = prompt | model | output_parser | upper\n",
    "\n",
    "ai_message = chain.invoke({\"input\": \"Hello!\"})\n",
    "print(ai_message)"
   ]
  },
  {
   "cell_type": "markdown",
   "metadata": {},
   "source": [
    "### RunnableLambda への自動変換\n"
   ]
  },
  {
   "cell_type": "code",
   "execution_count": 15,
   "metadata": {
    "execution": {
     "iopub.execute_input": "2024-06-28T02:33:43.508518Z",
     "iopub.status.busy": "2024-06-28T02:33:43.508321Z",
     "iopub.status.idle": "2024-06-28T02:33:43.511080Z",
     "shell.execute_reply": "2024-06-28T02:33:43.510672Z"
    }
   },
   "outputs": [],
   "source": [
    "def upper(text: str) -> str:\n",
    "    return text.upper()\n",
    "\n",
    "\n",
    "chain = prompt | model | output_parser | upper"
   ]
  },
  {
   "cell_type": "code",
   "execution_count": 16,
   "metadata": {
    "execution": {
     "iopub.execute_input": "2024-06-28T02:33:43.512885Z",
     "iopub.status.busy": "2024-06-28T02:33:43.512594Z",
     "iopub.status.idle": "2024-06-28T02:33:43.961318Z",
     "shell.execute_reply": "2024-06-28T02:33:43.960803Z"
    }
   },
   "outputs": [
    {
     "name": "stdout",
     "output_type": "stream",
     "text": [
      "HELLO! HOW CAN I ASSIST YOU TODAY?\n"
     ]
    }
   ],
   "source": [
    "ai_message = chain.invoke({\"input\": \"Hello!\"})\n",
    "print(ai_message)"
   ]
  },
  {
   "cell_type": "markdown",
   "metadata": {},
   "source": [
    "### Runnable の入力の型と出力の型に注意\n"
   ]
  },
  {
   "cell_type": "code",
   "execution_count": 17,
   "metadata": {
    "execution": {
     "iopub.execute_input": "2024-06-28T02:33:43.963174Z",
     "iopub.status.busy": "2024-06-28T02:33:43.963026Z",
     "iopub.status.idle": "2024-06-28T02:33:43.965674Z",
     "shell.execute_reply": "2024-06-28T02:33:43.965305Z"
    }
   },
   "outputs": [],
   "source": [
    "def upper(text: str) -> str:\n",
    "    return text.upper()\n",
    "\n",
    "\n",
    "chain = prompt | model | upper\n",
    "\n",
    "# 以下のコードを実行するとエラーになります\n",
    "# output = chain.invoke({\"input\": \"Hello!\"})"
   ]
  },
  {
   "cell_type": "code",
   "execution_count": 19,
   "metadata": {
    "execution": {
     "iopub.execute_input": "2024-06-28T02:33:43.967542Z",
     "iopub.status.busy": "2024-06-28T02:33:43.967246Z",
     "iopub.status.idle": "2024-06-28T02:33:44.531734Z",
     "shell.execute_reply": "2024-06-28T02:33:44.531210Z"
    }
   },
   "outputs": [],
   "source": [
    "chain = prompt | model | StrOutputParser() | upper"
   ]
  },
  {
   "cell_type": "code",
   "execution_count": 20,
   "metadata": {},
   "outputs": [
    {
     "name": "stdout",
     "output_type": "stream",
     "text": [
      "HELLO! HOW CAN I ASSIST YOU TODAY?\n"
     ]
    }
   ],
   "source": [
    "output = chain.invoke({\"input\": \"Hello!\"})\n",
    "print(output)"
   ]
  },
  {
   "cell_type": "markdown",
   "metadata": {},
   "source": [
    "### （コラム）独自の関数を stream に対応させたい場合\n"
   ]
  },
  {
   "cell_type": "code",
   "execution_count": 21,
   "metadata": {
    "execution": {
     "iopub.execute_input": "2024-06-28T02:33:44.533838Z",
     "iopub.status.busy": "2024-06-28T02:33:44.533678Z",
     "iopub.status.idle": "2024-06-28T02:33:45.353621Z",
     "shell.execute_reply": "2024-06-28T02:33:45.353115Z"
    }
   },
   "outputs": [
    {
     "name": "stdout",
     "output_type": "stream",
     "text": [
      "HELLO! HOW CAN I ASSIST YOU TODAY?"
     ]
    }
   ],
   "source": [
    "from typing import Iterator\n",
    "\n",
    "\n",
    "def upper(input_stream: Iterator[str]) -> Iterator[str]:\n",
    "    for text in input_stream:\n",
    "        yield text.upper()\n",
    "\n",
    "\n",
    "chain = prompt | model | StrOutputParser() | upper\n",
    "\n",
    "for chunk in chain.stream({\"input\": \"Hello!\"}):\n",
    "    print(chunk, end=\"\", flush=True)"
   ]
  },
  {
   "cell_type": "markdown",
   "metadata": {},
   "source": [
    "## 5.3. RunnableParallel―複数の Runnable を並列で処理する\n"
   ]
  },
  {
   "cell_type": "code",
   "execution_count": 22,
   "metadata": {
    "execution": {
     "iopub.execute_input": "2024-06-28T02:33:45.355560Z",
     "iopub.status.busy": "2024-06-28T02:33:45.355402Z",
     "iopub.status.idle": "2024-06-28T02:33:45.407879Z",
     "shell.execute_reply": "2024-06-28T02:33:45.407407Z"
    }
   },
   "outputs": [],
   "source": [
    "from langchain_core.output_parsers import StrOutputParser\n",
    "from langchain_core.prompts import ChatPromptTemplate\n",
    "from langchain_openai import ChatOpenAI\n",
    "\n",
    "model = ChatOpenAI(model=\"gpt-4o-mini\", temperature=0)\n",
    "output_parser = StrOutputParser()"
   ]
  },
  {
   "cell_type": "code",
   "execution_count": 23,
   "metadata": {
    "execution": {
     "iopub.execute_input": "2024-06-28T02:33:45.409670Z",
     "iopub.status.busy": "2024-06-28T02:33:45.409524Z",
     "iopub.status.idle": "2024-06-28T02:33:45.412232Z",
     "shell.execute_reply": "2024-06-28T02:33:45.411889Z"
    }
   },
   "outputs": [],
   "source": [
    "optimistic_prompt = ChatPromptTemplate.from_messages(\n",
    "    [\n",
    "        (\"system\", \"あなたは楽観主義者です。ユーザーの入力に対して楽観的な意見をください。\"),\n",
    "        (\"human\", \"{topic}\"),\n",
    "    ]\n",
    ")\n",
    "optimistic_chain = optimistic_prompt | model | output_parser"
   ]
  },
  {
   "cell_type": "code",
   "execution_count": 24,
   "metadata": {
    "execution": {
     "iopub.execute_input": "2024-06-28T02:33:45.414087Z",
     "iopub.status.busy": "2024-06-28T02:33:45.413807Z",
     "iopub.status.idle": "2024-06-28T02:33:45.416778Z",
     "shell.execute_reply": "2024-06-28T02:33:45.416359Z"
    }
   },
   "outputs": [],
   "source": [
    "pessimistic_prompt = ChatPromptTemplate.from_messages(\n",
    "    [\n",
    "        (\"system\", \"あなたは悲観主義者です。ユーザーの入力に対して悲観的な意見をください。\"),\n",
    "        (\"human\", \"{topic}\"),\n",
    "    ]\n",
    ")\n",
    "pessimistic_chain = pessimistic_prompt | model | output_parser"
   ]
  },
  {
   "cell_type": "code",
   "execution_count": 25,
   "metadata": {
    "execution": {
     "iopub.execute_input": "2024-06-28T02:33:45.418636Z",
     "iopub.status.busy": "2024-06-28T02:33:45.418458Z",
     "iopub.status.idle": "2024-06-28T02:33:48.115947Z",
     "shell.execute_reply": "2024-06-28T02:33:48.115444Z"
    }
   },
   "outputs": [
    {
     "name": "stdout",
     "output_type": "stream",
     "text": [
      "{'optimistic_opinion': '生成AIの進化は本当に素晴らしいですね！技術が進むことで、私たちの生活がより便利で豊かになる可能性が広がっています。クリエイティブな作業や問題解決の手助けをしてくれるAIが増えてきて、私たちのアイデアを実現するためのパートナーとして活躍しています。これからも新しい発見や革新が続くことで、私たちの未来はますます明るくなるでしょう！どんな新しい可能性が待っているのか、ワクワクしますね。',\n",
      " 'pessimistic_opinion': '生成AIの進化は確かに目覚ましいものがありますが、その一方で多くの懸念も伴います。技術が進化することで、私たちの仕事が奪われたり、情報の信頼性が低下したりするリスクが高まっています。さらに、AIが生成するコンテンツが氾濫することで、真実と虚偽の区別がますます難しくなり、社会全体が混乱する可能性もあります。結局のところ、進化する技術が私たちの生活を便利にする一方で、私たちの未来を脅かす要因にもなり得るのです。'}\n"
     ]
    }
   ],
   "source": [
    "import pprint\n",
    "from langchain_core.runnables import RunnableParallel\n",
    "\n",
    "parallel_chain = RunnableParallel(\n",
    "    {\n",
    "        \"optimistic_opinion\": optimistic_chain,\n",
    "        \"pessimistic_opinion\": pessimistic_chain,\n",
    "    }\n",
    ")\n",
    "\n",
    "output = parallel_chain.invoke({\"topic\": \"生成AIの進化について\"})\n",
    "pprint.pprint(output)"
   ]
  },
  {
   "cell_type": "markdown",
   "metadata": {},
   "source": [
    "### RunnableParallel の出力を Runnable の入力に連結する\n"
   ]
  },
  {
   "cell_type": "code",
   "execution_count": 26,
   "metadata": {
    "execution": {
     "iopub.execute_input": "2024-06-28T02:33:48.117879Z",
     "iopub.status.busy": "2024-06-28T02:33:48.117728Z",
     "iopub.status.idle": "2024-06-28T02:33:54.979992Z",
     "shell.execute_reply": "2024-06-28T02:33:54.978363Z"
    }
   },
   "outputs": [],
   "source": [
    "synthesize_prompt = ChatPromptTemplate.from_messages(\n",
    "    [\n",
    "        (\"system\", \"あなたは客観的AIです。2つの意見をまとめてください。\"),\n",
    "        (\"human\", \"楽観的意見: {optimistic_opinion}\\n悲観的意見: {pessimistic_opinion}\"),\n",
    "    ]\n",
    ")"
   ]
  },
  {
   "cell_type": "code",
   "execution_count": 27,
   "metadata": {},
   "outputs": [
    {
     "name": "stdout",
     "output_type": "stream",
     "text": [
      "生成AIの進化には、便利さや革新をもたらすという楽観的な見方と、仕事の喪失や情報の信頼性低下といった懸念が共存しています。楽観的意見では、生成AIがクリエイティブな作業や問題解決のパートナーとしての役割を果たし、教育や医療、エンターテインメントなどの分野での革新を促進し、社会全体の進化に寄与する可能性が強調されています。一方で、悲観的意見では、技術の進化がもたらすリスクとして、仕事の喪失やオリジナリティの低下、情報の信頼性の問題が指摘されており、便利さの裏には多くの課題が潜んでいると警鐘を鳴らしています。\n",
      "\n",
      "このように、生成AIの進化はその利点とリスクの両面を持ち合わせており、私たちがこの技術をどのように扱うかが未来に大きな影響を与えることは間違いありません。\n"
     ]
    }
   ],
   "source": [
    "synthesize_chain = (\n",
    "    RunnableParallel(\n",
    "        {\n",
    "            \"optimistic_opinion\": optimistic_chain,\n",
    "            \"pessimistic_opinion\": pessimistic_chain,\n",
    "        }\n",
    "    )\n",
    "    | synthesize_prompt\n",
    "    | model\n",
    "    | output_parser\n",
    ")\n",
    "\n",
    "output = synthesize_chain.invoke({\"topic\": \"生成AIの進化について\"})\n",
    "print(output)"
   ]
  },
  {
   "cell_type": "markdown",
   "metadata": {},
   "source": [
    "### RunnableParallel への自動変換\n"
   ]
  },
  {
   "cell_type": "code",
   "execution_count": 28,
   "metadata": {
    "execution": {
     "iopub.execute_input": "2024-06-28T02:33:54.986651Z",
     "iopub.status.busy": "2024-06-28T02:33:54.986098Z",
     "iopub.status.idle": "2024-06-28T02:33:54.994428Z",
     "shell.execute_reply": "2024-06-28T02:33:54.992735Z"
    }
   },
   "outputs": [],
   "source": [
    "synthesize_chain = (\n",
    "    {\n",
    "        \"optimistic_opinion\": optimistic_chain,\n",
    "        \"pessimistic_opinion\": pessimistic_chain,\n",
    "    }\n",
    "    | synthesize_prompt\n",
    "    | model\n",
    "    | output_parser\n",
    ")"
   ]
  },
  {
   "cell_type": "code",
   "execution_count": 29,
   "metadata": {
    "execution": {
     "iopub.execute_input": "2024-06-28T02:33:55.000866Z",
     "iopub.status.busy": "2024-06-28T02:33:55.000312Z",
     "iopub.status.idle": "2024-06-28T02:34:01.170210Z",
     "shell.execute_reply": "2024-06-28T02:34:01.169705Z"
    }
   },
   "outputs": [
    {
     "name": "stdout",
     "output_type": "stream",
     "text": [
      "生成AIの進化については、楽観的な意見と悲観的な意見が存在します。楽観的な見方では、生成AIの技術が進化することで、私たちの生活が便利で豊かになり、クリエイティブな作業や問題解決のパートナーとしての役割を果たすことが期待されています。この進化により、新しい発見や革新が続き、未来が明るくなる可能性があるとされています。\n",
      "\n",
      "一方で、悲観的な見方では、技術の進化がもたらすリスクも指摘されています。具体的には、仕事の喪失や情報の信頼性の低下、AIが生成するコンテンツの氾濫による社会的混乱などが懸念されています。このように、生成AIの進化は私たちにとって必ずしも良い結果をもたらすわけではなく、新たな問題を引き起こす要因となる可能性もあるとされています。\n",
      "\n",
      "総じて、生成AIの進化には明るい未来を期待する声と、リスクを警戒する声が共存しており、今後の技術の発展とその影響について慎重に考える必要があると言えるでしょう。\n"
     ]
    }
   ],
   "source": [
    "output = synthesize_chain.invoke({\"topic\": \"生成AIの進化について\"})\n",
    "print(output)"
   ]
  },
  {
   "cell_type": "markdown",
   "metadata": {},
   "source": [
    "### RunnableLambda との組み合わせ―itemgetter を使う例\n"
   ]
  },
  {
   "cell_type": "code",
   "execution_count": 30,
   "metadata": {
    "execution": {
     "iopub.execute_input": "2024-06-28T02:34:01.172136Z",
     "iopub.status.busy": "2024-06-28T02:34:01.171982Z",
     "iopub.status.idle": "2024-06-28T02:34:01.174756Z",
     "shell.execute_reply": "2024-06-28T02:34:01.174370Z"
    }
   },
   "outputs": [
    {
     "name": "stdout",
     "output_type": "stream",
     "text": [
      "生成AIの進化について\n"
     ]
    }
   ],
   "source": [
    "from operator import itemgetter\n",
    "\n",
    "topic_getter = itemgetter(\"topic\")\n",
    "topic = topic_getter({\"topic\": \"生成AIの進化について\"})\n",
    "print(topic)"
   ]
  },
  {
   "cell_type": "code",
   "execution_count": 31,
   "metadata": {
    "execution": {
     "iopub.execute_input": "2024-06-28T02:34:01.176493Z",
     "iopub.status.busy": "2024-06-28T02:34:01.176278Z",
     "iopub.status.idle": "2024-06-28T02:34:09.682638Z",
     "shell.execute_reply": "2024-06-28T02:34:09.682146Z"
    }
   },
   "outputs": [
    {
     "name": "stdout",
     "output_type": "stream",
     "text": [
      "生成AIの進化に関する意見は、楽観的な見方と悲観的な見方の2つに分かれます。\n",
      "\n",
      "**楽観的意見**: 生成AIの進化は、私たちの生活をより便利で豊かにする可能性を秘めています。技術の進歩により、クリエイティブな作業やデータ分析が効率的に行えるようになり、アイデアの実現をサポートします。また、教育、医療、エンターテインメントなどの分野で新たな可能性が広がり、未来には想像を超える成果が期待されます。\n",
      "\n",
      "**悲観的意見**: 一方で、生成AIの進化には多くの懸念も伴います。技術の進化が進むことで、仕事の喪失や情報の信頼性の低下といったリスクが増大します。AIが生成するコンテンツの氾濫により、真実と虚偽の区別が難しくなり、社会全体が混乱する可能性もあります。進化する技術が便利さをもたらす一方で、私たちの未来に脅威をもたらす要因にもなり得るのです。\n"
     ]
    }
   ],
   "source": [
    "from operator import itemgetter\n",
    "\n",
    "synthesize_prompt = ChatPromptTemplate.from_messages(\n",
    "    [\n",
    "        (\n",
    "            \"system\",\n",
    "            \"あなたは客観的AIです。{topic}について2つの意見をまとめてください。\",\n",
    "        ),\n",
    "        (\n",
    "            \"human\",\n",
    "            \"楽観的意見: {optimistic_opinion}\\n悲観的意見: {pessimistic_opinion}\",\n",
    "        ),\n",
    "    ]\n",
    ")\n",
    "\n",
    "synthesize_chain = (\n",
    "    {\n",
    "        \"optimistic_opinion\": optimistic_chain,\n",
    "        \"pessimistic_opinion\": pessimistic_chain,\n",
    "        \"topic\": itemgetter(\"topic\"),\n",
    "    }\n",
    "    | synthesize_prompt\n",
    "    | model\n",
    "    | output_parser\n",
    ")\n",
    "\n",
    "output = synthesize_chain.invoke({\"topic\": \"生成AIの進化について\"})\n",
    "print(output)"
   ]
  },
  {
   "cell_type": "markdown",
   "metadata": {},
   "source": [
    "## 5.4. RunnablePassthrough―入力をそのまま出力する\n"
   ]
  },
  {
   "cell_type": "code",
   "execution_count": null,
   "metadata": {},
   "outputs": [],
   "source": [
    "# import os\n",
    "# from google.colab import userdata\n",
    "\n",
    "# os.environ[\"TAVILY_API_KEY\"] = userdata.get(\"TAVILY_API_KEY\")"
   ]
  },
  {
   "cell_type": "code",
   "execution_count": null,
   "metadata": {},
   "outputs": [],
   "source": [
    "# !pip install tavily-python==0.5.0"
   ]
  },
  {
   "cell_type": "code",
   "execution_count": 11,
   "metadata": {},
   "outputs": [],
   "source": [
    "from langchain_core.prompts import ChatPromptTemplate\n",
    "from langchain_openai import ChatOpenAI\n",
    "\n",
    "prompt = ChatPromptTemplate.from_template('''\\\n",
    "以下の文脈だけを踏まえて質問に回答してください。\n",
    "\n",
    "文脈: \"\"\"\n",
    "{context}\n",
    "\"\"\"\n",
    "\n",
    "質問: {question}\n",
    "''')\n",
    "\n",
    "model = ChatOpenAI(model_name=\"gpt-4o-mini\", temperature=0)  # type: ignore"
   ]
  },
  {
   "cell_type": "code",
   "execution_count": 12,
   "metadata": {},
   "outputs": [],
   "source": [
    "from langchain_community.retrievers import TavilySearchAPIRetriever\n",
    "\n",
    "retriever = TavilySearchAPIRetriever(k=3)"
   ]
  },
  {
   "cell_type": "code",
   "execution_count": 13,
   "metadata": {},
   "outputs": [
    {
     "name": "stdout",
     "output_type": "stream",
     "text": [
      "文脈には具体的な今日の天気の詳細は記載されていませんが、東京都の天気予報によると、26日は曇りで、朝晩は雨の降る所がある見込みです。気温や降水確率の具体的な数値は示されていません。\n"
     ]
    }
   ],
   "source": [
    "from langchain_core.runnables import RunnablePassthrough\n",
    "\n",
    "chain = (\n",
    "    {\"context\": retriever, \"question\": RunnablePassthrough()}\n",
    "    | prompt\n",
    "    | model\n",
    "    | StrOutputParser()\n",
    ")  # fmt: skip\n",
    "\n",
    "output = chain.invoke(\"東京の今日の天気は？\")\n",
    "print(output)"
   ]
  },
  {
   "cell_type": "markdown",
   "metadata": {},
   "source": [
    "### assign―RunnableParallel に値を追加する\n"
   ]
  },
  {
   "cell_type": "code",
   "execution_count": 14,
   "metadata": {
    "execution": {
     "iopub.execute_input": "2024-06-28T02:34:14.820735Z",
     "iopub.status.busy": "2024-06-28T02:34:14.820536Z",
     "iopub.status.idle": "2024-06-28T02:34:20.477887Z",
     "shell.execute_reply": "2024-06-28T02:34:20.477378Z"
    }
   },
   "outputs": [
    {
     "name": "stdout",
     "output_type": "stream",
     "text": [
      "{'answer': '文脈には具体的な今日の天気の情報は含まれていませんが、東京の天気予報が提供されていることが示されています。詳細な天気情報を知りたい場合は、Yahoo!天気や日本気象協会のサイトを参照することをお勧めします。',\n",
      " 'context': [Document(metadata={'title': '東京（東京）の天気 - Yahoo!天気・災害', 'source': 'https://weather.yahoo.co.jp/weather/jp/13/4410.html', 'score': 0.99411184, 'images': []}, page_content='東京（東京）の天気予報。今日・明日の天気と風と波、明日までの6時間ごとの降水確率と最高・最低気温を見られます。 ... 念のためお肌の乾燥には気を付けて'),\n",
      "             Document(metadata={'title': '東京都の天気 - 日本気象協会 tenki.jp', 'source': 'https://tenki.jp/forecast/3/16/', 'score': 0.9873262, 'images': []}, page_content='東京都の天気予報です。市区町村別の今日の天気、気温、降水確率が地図上に表示されているので、ひと目でわかります。タブ切り替えで10日間'),\n",
      "             Document(metadata={'title': '東京都の天気 - Yahoo!天気・災害', 'source': 'https://weather.yahoo.co.jp/weather/jp/13/', 'score': 0.98365986, 'images': []}, page_content='東京都の天気予報。今日の天気、明日の天気、気温、降水確率を地図上に表示。 ... 関東地方と伊豆諸島の海上では、26日から27日にかけて、うねりを伴い波が高い見込みです。船舶は高波に注意してください。')],\n",
      " 'question': '東京の今日の天気は？'}\n"
     ]
    }
   ],
   "source": [
    "import pprint\n",
    "\n",
    "chain = {\n",
    "    \"question\": RunnablePassthrough(),\n",
    "    \"context\": retriever,\n",
    "} | RunnablePassthrough.assign(\n",
    "    answer=prompt\n",
    "    | model\n",
    "    | StrOutputParser()\n",
    ")  # fmt: skip\n",
    "\n",
    "output = chain.invoke(\"東京の今日の天気は？\")\n",
    "pprint.pprint(output)"
   ]
  },
  {
   "cell_type": "code",
   "execution_count": 15,
   "metadata": {
    "execution": {
     "iopub.execute_input": "2024-06-28T02:34:20.479839Z",
     "iopub.status.busy": "2024-06-28T02:34:20.479664Z",
     "iopub.status.idle": "2024-06-28T02:34:27.723756Z",
     "shell.execute_reply": "2024-06-28T02:34:27.723236Z"
    }
   },
   "outputs": [],
   "source": [
    "from langchain_core.runnables import RunnableParallel\n",
    "\n",
    "chain = RunnableParallel(\n",
    "    {\n",
    "        \"question\": RunnablePassthrough(),\n",
    "        \"context\": retriever,\n",
    "    }\n",
    ").assign(answer=prompt | model | StrOutputParser())"
   ]
  },
  {
   "cell_type": "code",
   "execution_count": 16,
   "metadata": {},
   "outputs": [
    {
     "name": "stdout",
     "output_type": "stream",
     "text": [
      "{'question': '東京の今日の天気は？', 'context': [Document(metadata={'title': '東京（東京）の天気 - Yahoo!天気・災害', 'source': 'https://weather.yahoo.co.jp/weather/jp/13/4410.html', 'score': 0.99411184, 'images': []}, page_content='東京（東京）の天気予報。今日・明日の天気と風と波、明日までの6時間ごとの降水確率と最高・最低気温を見られます。 ... 念のためお肌の乾燥には気を付けて'), Document(metadata={'title': '東京都の天気 - 日本気象協会 tenki.jp', 'source': 'https://tenki.jp/forecast/3/16/', 'score': 0.9872773, 'images': []}, page_content='東京都の天気予報です。市区町村別の今日の天気、気温、降水確率が地図上に表示されているので、ひと目でわかります。タブ切り替えで10日間'), Document(metadata={'title': '東京都目黒区の天気予報(1時間・今日明日・週間) - ウェザーニュース', 'source': 'https://weathernews.jp/onebox/tenki/tokyo/13110/', 'score': 0.96182173, 'images': []}, page_content='【予報精度No.1】東京都目黒区の天気予報を5分毎・1時間毎・今日明日・週間(10日間)で掲載中!今知りたい現地の天気は、ウェザーニュースアプリから届く空の写真で確認。世界最大級の気象情報会社ウェザーニューズの観測ネットワークと独自の予測モデル、AI分析で一番当たる予報をお届けし')], 'answer': '文脈には具体的な今日の天気の情報は含まれていませんが、東京の天気予報を確認するためのリンクがいくつか提供されています。例えば、Yahoo!天気や日本気象協会のサイトで最新の天気情報を確認できます。具体的な天気情報を知りたい場合は、これらのリンクを参照してください。'}\n"
     ]
    }
   ],
   "source": [
    "output = chain.invoke(\"東京の今日の天気は？\")\n",
    "print(output)"
   ]
  },
  {
   "cell_type": "code",
   "execution_count": 18,
   "metadata": {},
   "outputs": [
    {
     "name": "stdout",
     "output_type": "stream",
     "text": [
      "{'answer': '文脈には具体的な今日の天気の情報は含まれていませんが、東京の天気予報を確認するためのリンクがいくつか提供されています。例えば、Yahoo!天気や日本気象協会のサイトで最新の天気情報を確認できます。具体的な天気情報を知りたい場合は、これらのリンクを参照してください。',\n",
      " 'context': [Document(metadata={'title': '東京（東京）の天気 - Yahoo!天気・災害', 'source': 'https://weather.yahoo.co.jp/weather/jp/13/4410.html', 'score': 0.99411184, 'images': []}, page_content='東京（東京）の天気予報。今日・明日の天気と風と波、明日までの6時間ごとの降水確率と最高・最低気温を見られます。 ... 念のためお肌の乾燥には気を付けて'),\n",
      "             Document(metadata={'title': '東京都の天気 - 日本気象協会 tenki.jp', 'source': 'https://tenki.jp/forecast/3/16/', 'score': 0.9872773, 'images': []}, page_content='東京都の天気予報です。市区町村別の今日の天気、気温、降水確率が地図上に表示されているので、ひと目でわかります。タブ切り替えで10日間'),\n",
      "             Document(metadata={'title': '東京都目黒区の天気予報(1時間・今日明日・週間) - ウェザーニュース', 'source': 'https://weathernews.jp/onebox/tenki/tokyo/13110/', 'score': 0.96182173, 'images': []}, page_content='【予報精度No.1】東京都目黒区の天気予報を5分毎・1時間毎・今日明日・週間(10日間)で掲載中!今知りたい現地の天気は、ウェザーニュースアプリから届く空の写真で確認。世界最大級の気象情報会社ウェザーニューズの観測ネットワークと独自の予測モデル、AI分析で一番当たる予報をお届けし')],\n",
      " 'question': '東京の今日の天気は？'}\n"
     ]
    }
   ],
   "source": [
    "pprint.pprint(output)"
   ]
  },
  {
   "cell_type": "markdown",
   "metadata": {},
   "source": [
    "#### ＜補足：pick ＞\n"
   ]
  },
  {
   "cell_type": "code",
   "execution_count": 19,
   "metadata": {
    "execution": {
     "iopub.execute_input": "2024-06-28T02:34:27.725885Z",
     "iopub.status.busy": "2024-06-28T02:34:27.725708Z",
     "iopub.status.idle": "2024-06-28T02:34:34.101909Z",
     "shell.execute_reply": "2024-06-28T02:34:34.101439Z"
    }
   },
   "outputs": [],
   "source": [
    "chain = (\n",
    "    RunnableParallel(\n",
    "        {\n",
    "            \"question\": RunnablePassthrough(),\n",
    "            \"context\": retriever,\n",
    "        }\n",
    "    )\n",
    "    .assign(answer=prompt | model | StrOutputParser())\n",
    "    .pick([\"context\", \"answer\"])\n",
    ")"
   ]
  },
  {
   "cell_type": "code",
   "execution_count": 20,
   "metadata": {},
   "outputs": [
    {
     "name": "stdout",
     "output_type": "stream",
     "text": [
      "{'context': [Document(metadata={'title': '東京（東京）の天気 - Yahoo!天気・災害', 'source': 'https://weather.yahoo.co.jp/weather/jp/13/4410.html', 'score': 0.99411184, 'images': []}, page_content='東京（東京）の天気予報。今日・明日の天気と風と波、明日までの6時間ごとの降水確率と最高・最低気温を見られます。 ... 念のためお肌の乾燥には気を付けて'), Document(metadata={'title': '東京都の天気 - 日本気象協会 tenki.jp', 'source': 'https://tenki.jp/forecast/3/16/', 'score': 0.9872773, 'images': []}, page_content='東京都の天気予報です。市区町村別の今日の天気、気温、降水確率が地図上に表示されているので、ひと目でわかります。タブ切り替えで10日間'), Document(metadata={'title': '東京都の天気 - Yahoo!天気・災害', 'source': 'https://weather.yahoo.co.jp/weather/jp/13/', 'score': 0.9837225, 'images': []}, page_content='東京都の天気予報。今日の天気、明日の天気、気温、降水確率を地図上に表示。 ... 関東地方と伊豆諸島の海上では、26日から27日にかけて、うねりを伴い波が高い見込みです。船舶は高波に注意してください。')], 'answer': '文脈には具体的な今日の天気の情報は含まれていませんが、東京の天気予報を確認するには、Yahoo!天気や日本気象協会のサイトを参照することができます。具体的な天気情報はそれらのサイトで確認してください。'}\n"
     ]
    }
   ],
   "source": [
    "output = chain.invoke(\"東京の今日の天気は？\")\n",
    "print(output)"
   ]
  },
  {
   "cell_type": "code",
   "execution_count": 21,
   "metadata": {},
   "outputs": [
    {
     "name": "stdout",
     "output_type": "stream",
     "text": [
      "{'answer': '文脈には具体的な今日の天気の情報は含まれていませんが、東京の天気予報を確認するには、Yahoo!天気や日本気象協会のサイトを参照することができます。具体的な天気情報はそれらのサイトで確認してください。',\n",
      " 'context': [Document(metadata={'title': '東京（東京）の天気 - Yahoo!天気・災害', 'source': 'https://weather.yahoo.co.jp/weather/jp/13/4410.html', 'score': 0.99411184, 'images': []}, page_content='東京（東京）の天気予報。今日・明日の天気と風と波、明日までの6時間ごとの降水確率と最高・最低気温を見られます。 ... 念のためお肌の乾燥には気を付けて'),\n",
      "             Document(metadata={'title': '東京都の天気 - 日本気象協会 tenki.jp', 'source': 'https://tenki.jp/forecast/3/16/', 'score': 0.9872773, 'images': []}, page_content='東京都の天気予報です。市区町村別の今日の天気、気温、降水確率が地図上に表示されているので、ひと目でわかります。タブ切り替えで10日間'),\n",
      "             Document(metadata={'title': '東京都の天気 - Yahoo!天気・災害', 'source': 'https://weather.yahoo.co.jp/weather/jp/13/', 'score': 0.9837225, 'images': []}, page_content='東京都の天気予報。今日の天気、明日の天気、気温、降水確率を地図上に表示。 ... 関東地方と伊豆諸島の海上では、26日から27日にかけて、うねりを伴い波が高い見込みです。船舶は高波に注意してください。')]}\n"
     ]
    }
   ],
   "source": [
    "pprint.pprint(output)"
   ]
  },
  {
   "cell_type": "markdown",
   "metadata": {},
   "source": [
    "### （コラム）astream_events\n"
   ]
  },
  {
   "cell_type": "code",
   "execution_count": 22,
   "metadata": {
    "execution": {
     "iopub.execute_input": "2024-06-28T02:34:34.103973Z",
     "iopub.status.busy": "2024-06-28T02:34:34.103802Z",
     "iopub.status.idle": "2024-06-28T02:34:34.107769Z",
     "shell.execute_reply": "2024-06-28T02:34:34.107274Z"
    }
   },
   "outputs": [
    {
     "name": "stdout",
     "output_type": "stream",
     "text": [
      "{'event': 'on_chain_start', 'data': {'input': '東京の今日の天気は？'}, 'name': 'RunnableSequence', 'tags': [], 'run_id': 'b2e8195d-6001-4c24-93d0-26eeaed3948d', 'metadata': {}, 'parent_ids': []}\n",
      "{'event': 'on_chain_start', 'data': {}, 'name': 'RunnableParallel<context,question>', 'tags': ['seq:step:1'], 'run_id': 'ec5d42d4-dd3e-4223-b850-8423ce15226f', 'metadata': {}, 'parent_ids': ['b2e8195d-6001-4c24-93d0-26eeaed3948d']}\n",
      "{'event': 'on_retriever_start', 'data': {'input': {'query': '東京の今日の天気は？'}}, 'name': 'TavilySearchAPIRetriever', 'tags': ['map:key:context'], 'run_id': 'e3f2ceea-43ed-4965-bb12-e0736626c7b1', 'metadata': {'ls_retriever_name': 'tavilysearchapi'}, 'parent_ids': ['b2e8195d-6001-4c24-93d0-26eeaed3948d', 'ec5d42d4-dd3e-4223-b850-8423ce15226f']}\n",
      "{'event': 'on_chain_start', 'data': {}, 'name': 'RunnablePassthrough', 'tags': ['map:key:question'], 'run_id': '04b986c4-a9e2-416f-b52f-ef52410db464', 'metadata': {}, 'parent_ids': ['b2e8195d-6001-4c24-93d0-26eeaed3948d', 'ec5d42d4-dd3e-4223-b850-8423ce15226f']}\n",
      "{'event': 'on_chain_stream', 'run_id': '04b986c4-a9e2-416f-b52f-ef52410db464', 'name': 'RunnablePassthrough', 'tags': ['map:key:question'], 'metadata': {}, 'data': {'chunk': '東京の今日の天気は？'}, 'parent_ids': ['b2e8195d-6001-4c24-93d0-26eeaed3948d', 'ec5d42d4-dd3e-4223-b850-8423ce15226f']}\n",
      "{'event': 'on_chain_stream', 'run_id': 'ec5d42d4-dd3e-4223-b850-8423ce15226f', 'name': 'RunnableParallel<context,question>', 'tags': ['seq:step:1'], 'metadata': {}, 'data': {'chunk': {'question': '東京の今日の天気は？'}}, 'parent_ids': ['b2e8195d-6001-4c24-93d0-26eeaed3948d']}\n",
      "{'event': 'on_chain_end', 'data': {'output': '東京の今日の天気は？', 'input': '東京の今日の天気は？'}, 'run_id': '04b986c4-a9e2-416f-b52f-ef52410db464', 'name': 'RunnablePassthrough', 'tags': ['map:key:question'], 'metadata': {}, 'parent_ids': ['b2e8195d-6001-4c24-93d0-26eeaed3948d', 'ec5d42d4-dd3e-4223-b850-8423ce15226f']}\n",
      "{'event': 'on_retriever_end', 'data': {'output': [Document(metadata={'title': '東京（東京）の天気 - Yahoo!天気・災害', 'source': 'https://weather.yahoo.co.jp/weather/jp/13/4410.html', 'score': 0.99411184, 'images': []}, page_content='東京（東京）の天気予報。今日・明日の天気と風と波、明日までの6時間ごとの降水確率と最高・最低気温を見られます。 ... 念のためお肌の乾燥には気を付けて'), Document(metadata={'title': '東京都の天気 - 日本気象協会 tenki.jp', 'source': 'https://tenki.jp/forecast/3/16/', 'score': 0.9872773, 'images': []}, page_content='東京都の天気予報です。市区町村別の今日の天気、気温、降水確率が地図上に表示されているので、ひと目でわかります。タブ切り替えで10日間'), Document(metadata={'title': '東京都の天気 - Yahoo!天気・災害', 'source': 'https://weather.yahoo.co.jp/weather/jp/13/', 'score': 0.9837225, 'images': []}, page_content='東京都の天気予報。今日の天気、明日の天気、気温、降水確率を地図上に表示。 ... 関東地方と伊豆諸島の海上では、26日から27日にかけて、うねりを伴い波が高い見込みです。船舶は高波に注意してください。')], 'input': {'query': '東京の今日の天気は？'}}, 'run_id': 'e3f2ceea-43ed-4965-bb12-e0736626c7b1', 'name': 'TavilySearchAPIRetriever', 'tags': ['map:key:context'], 'metadata': {'ls_retriever_name': 'tavilysearchapi'}, 'parent_ids': ['b2e8195d-6001-4c24-93d0-26eeaed3948d', 'ec5d42d4-dd3e-4223-b850-8423ce15226f']}\n",
      "{'event': 'on_chain_stream', 'run_id': 'ec5d42d4-dd3e-4223-b850-8423ce15226f', 'name': 'RunnableParallel<context,question>', 'tags': ['seq:step:1'], 'metadata': {}, 'data': {'chunk': {'context': [Document(metadata={'title': '東京（東京）の天気 - Yahoo!天気・災害', 'source': 'https://weather.yahoo.co.jp/weather/jp/13/4410.html', 'score': 0.99411184, 'images': []}, page_content='東京（東京）の天気予報。今日・明日の天気と風と波、明日までの6時間ごとの降水確率と最高・最低気温を見られます。 ... 念のためお肌の乾燥には気を付けて'), Document(metadata={'title': '東京都の天気 - 日本気象協会 tenki.jp', 'source': 'https://tenki.jp/forecast/3/16/', 'score': 0.9872773, 'images': []}, page_content='東京都の天気予報です。市区町村別の今日の天気、気温、降水確率が地図上に表示されているので、ひと目でわかります。タブ切り替えで10日間'), Document(metadata={'title': '東京都の天気 - Yahoo!天気・災害', 'source': 'https://weather.yahoo.co.jp/weather/jp/13/', 'score': 0.9837225, 'images': []}, page_content='東京都の天気予報。今日の天気、明日の天気、気温、降水確率を地図上に表示。 ... 関東地方と伊豆諸島の海上では、26日から27日にかけて、うねりを伴い波が高い見込みです。船舶は高波に注意してください。')]}}, 'parent_ids': ['b2e8195d-6001-4c24-93d0-26eeaed3948d']}\n",
      "{'event': 'on_chain_end', 'data': {'output': {'question': '東京の今日の天気は？', 'context': [Document(metadata={'title': '東京（東京）の天気 - Yahoo!天気・災害', 'source': 'https://weather.yahoo.co.jp/weather/jp/13/4410.html', 'score': 0.99411184, 'images': []}, page_content='東京（東京）の天気予報。今日・明日の天気と風と波、明日までの6時間ごとの降水確率と最高・最低気温を見られます。 ... 念のためお肌の乾燥には気を付けて'), Document(metadata={'title': '東京都の天気 - 日本気象協会 tenki.jp', 'source': 'https://tenki.jp/forecast/3/16/', 'score': 0.9872773, 'images': []}, page_content='東京都の天気予報です。市区町村別の今日の天気、気温、降水確率が地図上に表示されているので、ひと目でわかります。タブ切り替えで10日間'), Document(metadata={'title': '東京都の天気 - Yahoo!天気・災害', 'source': 'https://weather.yahoo.co.jp/weather/jp/13/', 'score': 0.9837225, 'images': []}, page_content='東京都の天気予報。今日の天気、明日の天気、気温、降水確率を地図上に表示。 ... 関東地方と伊豆諸島の海上では、26日から27日にかけて、うねりを伴い波が高い見込みです。船舶は高波に注意してください。')]}, 'input': '東京の今日の天気は？'}, 'run_id': 'ec5d42d4-dd3e-4223-b850-8423ce15226f', 'name': 'RunnableParallel<context,question>', 'tags': ['seq:step:1'], 'metadata': {}, 'parent_ids': ['b2e8195d-6001-4c24-93d0-26eeaed3948d']}\n",
      "{'event': 'on_prompt_start', 'data': {'input': {'question': '東京の今日の天気は？', 'context': [Document(metadata={'title': '東京（東京）の天気 - Yahoo!天気・災害', 'source': 'https://weather.yahoo.co.jp/weather/jp/13/4410.html', 'score': 0.99411184, 'images': []}, page_content='東京（東京）の天気予報。今日・明日の天気と風と波、明日までの6時間ごとの降水確率と最高・最低気温を見られます。 ... 念のためお肌の乾燥には気を付けて'), Document(metadata={'title': '東京都の天気 - 日本気象協会 tenki.jp', 'source': 'https://tenki.jp/forecast/3/16/', 'score': 0.9872773, 'images': []}, page_content='東京都の天気予報です。市区町村別の今日の天気、気温、降水確率が地図上に表示されているので、ひと目でわかります。タブ切り替えで10日間'), Document(metadata={'title': '東京都の天気 - Yahoo!天気・災害', 'source': 'https://weather.yahoo.co.jp/weather/jp/13/', 'score': 0.9837225, 'images': []}, page_content='東京都の天気予報。今日の天気、明日の天気、気温、降水確率を地図上に表示。 ... 関東地方と伊豆諸島の海上では、26日から27日にかけて、うねりを伴い波が高い見込みです。船舶は高波に注意してください。')]}}, 'name': 'ChatPromptTemplate', 'tags': ['seq:step:2'], 'run_id': 'f83b1f6d-7e2d-4f18-80b8-a969943e193d', 'metadata': {}, 'parent_ids': ['b2e8195d-6001-4c24-93d0-26eeaed3948d']}\n",
      "{'event': 'on_prompt_end', 'data': {'output': ChatPromptValue(messages=[HumanMessage(content='以下の文脈だけを踏まえて質問に回答してください。\\n\\n文脈: \"\"\"\\n[Document(metadata={\\'title\\': \\'東京（東京）の天気 - Yahoo!天気・災害\\', \\'source\\': \\'https://weather.yahoo.co.jp/weather/jp/13/4410.html\\', \\'score\\': 0.99411184, \\'images\\': []}, page_content=\\'東京（東京）の天気予報。今日・明日の天気と風と波、明日までの6時間ごとの降水確率と最高・最低気温を見られます。 ... 念のためお肌の乾燥には気を付けて\\'), Document(metadata={\\'title\\': \\'東京都の天気 - 日本気象協会 tenki.jp\\', \\'source\\': \\'https://tenki.jp/forecast/3/16/\\', \\'score\\': 0.9872773, \\'images\\': []}, page_content=\\'東京都の天気予報です。市区町村別の今日の天気、気温、降水確率が地図上に表示されているので、ひと目でわかります。タブ切り替えで10日間\\'), Document(metadata={\\'title\\': \\'東京都の天気 - Yahoo!天気・災害\\', \\'source\\': \\'https://weather.yahoo.co.jp/weather/jp/13/\\', \\'score\\': 0.9837225, \\'images\\': []}, page_content=\\'東京都の天気予報。今日の天気、明日の天気、気温、降水確率を地図上に表示。 ... 関東地方と伊豆諸島の海上では、26日から27日にかけて、うねりを伴い波が高い見込みです。船舶は高波に注意してください。\\')]\\n\"\"\"\\n\\n質問: 東京の今日の天気は？\\n', additional_kwargs={}, response_metadata={})]), 'input': {'question': '東京の今日の天気は？', 'context': [Document(metadata={'title': '東京（東京）の天気 - Yahoo!天気・災害', 'source': 'https://weather.yahoo.co.jp/weather/jp/13/4410.html', 'score': 0.99411184, 'images': []}, page_content='東京（東京）の天気予報。今日・明日の天気と風と波、明日までの6時間ごとの降水確率と最高・最低気温を見られます。 ... 念のためお肌の乾燥には気を付けて'), Document(metadata={'title': '東京都の天気 - 日本気象協会 tenki.jp', 'source': 'https://tenki.jp/forecast/3/16/', 'score': 0.9872773, 'images': []}, page_content='東京都の天気予報です。市区町村別の今日の天気、気温、降水確率が地図上に表示されているので、ひと目でわかります。タブ切り替えで10日間'), Document(metadata={'title': '東京都の天気 - Yahoo!天気・災害', 'source': 'https://weather.yahoo.co.jp/weather/jp/13/', 'score': 0.9837225, 'images': []}, page_content='東京都の天気予報。今日の天気、明日の天気、気温、降水確率を地図上に表示。 ... 関東地方と伊豆諸島の海上では、26日から27日にかけて、うねりを伴い波が高い見込みです。船舶は高波に注意してください。')]}}, 'run_id': 'f83b1f6d-7e2d-4f18-80b8-a969943e193d', 'name': 'ChatPromptTemplate', 'tags': ['seq:step:2'], 'metadata': {}, 'parent_ids': ['b2e8195d-6001-4c24-93d0-26eeaed3948d']}\n",
      "{'event': 'on_chat_model_start', 'data': {'input': {'messages': [[HumanMessage(content='以下の文脈だけを踏まえて質問に回答してください。\\n\\n文脈: \"\"\"\\n[Document(metadata={\\'title\\': \\'東京（東京）の天気 - Yahoo!天気・災害\\', \\'source\\': \\'https://weather.yahoo.co.jp/weather/jp/13/4410.html\\', \\'score\\': 0.99411184, \\'images\\': []}, page_content=\\'東京（東京）の天気予報。今日・明日の天気と風と波、明日までの6時間ごとの降水確率と最高・最低気温を見られます。 ... 念のためお肌の乾燥には気を付けて\\'), Document(metadata={\\'title\\': \\'東京都の天気 - 日本気象協会 tenki.jp\\', \\'source\\': \\'https://tenki.jp/forecast/3/16/\\', \\'score\\': 0.9872773, \\'images\\': []}, page_content=\\'東京都の天気予報です。市区町村別の今日の天気、気温、降水確率が地図上に表示されているので、ひと目でわかります。タブ切り替えで10日間\\'), Document(metadata={\\'title\\': \\'東京都の天気 - Yahoo!天気・災害\\', \\'source\\': \\'https://weather.yahoo.co.jp/weather/jp/13/\\', \\'score\\': 0.9837225, \\'images\\': []}, page_content=\\'東京都の天気予報。今日の天気、明日の天気、気温、降水確率を地図上に表示。 ... 関東地方と伊豆諸島の海上では、26日から27日にかけて、うねりを伴い波が高い見込みです。船舶は高波に注意してください。\\')]\\n\"\"\"\\n\\n質問: 東京の今日の天気は？\\n', additional_kwargs={}, response_metadata={})]]}}, 'name': 'ChatOpenAI', 'tags': ['seq:step:3'], 'run_id': '875b9c46-9468-49bb-9497-c570469632ac', 'metadata': {'ls_provider': 'openai', 'ls_model_name': 'gpt-4o-mini', 'ls_model_type': 'chat', 'ls_temperature': 0.0}, 'parent_ids': ['b2e8195d-6001-4c24-93d0-26eeaed3948d']}\n",
      "{'event': 'on_chat_model_stream', 'data': {'chunk': AIMessageChunk(content='', additional_kwargs={}, response_metadata={}, id='run-875b9c46-9468-49bb-9497-c570469632ac')}, 'run_id': '875b9c46-9468-49bb-9497-c570469632ac', 'name': 'ChatOpenAI', 'tags': ['seq:step:3'], 'metadata': {'ls_provider': 'openai', 'ls_model_name': 'gpt-4o-mini', 'ls_model_type': 'chat', 'ls_temperature': 0.0}, 'parent_ids': ['b2e8195d-6001-4c24-93d0-26eeaed3948d']}\n",
      "{'event': 'on_parser_start', 'data': {}, 'name': 'StrOutputParser', 'tags': ['seq:step:4'], 'run_id': '92f1b9e0-3da5-4519-ab0f-b9a2bfafd671', 'metadata': {}, 'parent_ids': ['b2e8195d-6001-4c24-93d0-26eeaed3948d']}\n",
      "{'event': 'on_parser_stream', 'run_id': '92f1b9e0-3da5-4519-ab0f-b9a2bfafd671', 'name': 'StrOutputParser', 'tags': ['seq:step:4'], 'metadata': {}, 'data': {'chunk': ''}, 'parent_ids': ['b2e8195d-6001-4c24-93d0-26eeaed3948d']}\n",
      "{'event': 'on_chain_stream', 'run_id': 'b2e8195d-6001-4c24-93d0-26eeaed3948d', 'name': 'RunnableSequence', 'tags': [], 'metadata': {}, 'data': {'chunk': ''}, 'parent_ids': []}\n",
      "{'event': 'on_chat_model_stream', 'data': {'chunk': AIMessageChunk(content='文', additional_kwargs={}, response_metadata={}, id='run-875b9c46-9468-49bb-9497-c570469632ac')}, 'run_id': '875b9c46-9468-49bb-9497-c570469632ac', 'name': 'ChatOpenAI', 'tags': ['seq:step:3'], 'metadata': {'ls_provider': 'openai', 'ls_model_name': 'gpt-4o-mini', 'ls_model_type': 'chat', 'ls_temperature': 0.0}, 'parent_ids': ['b2e8195d-6001-4c24-93d0-26eeaed3948d']}\n",
      "{'event': 'on_parser_stream', 'run_id': '92f1b9e0-3da5-4519-ab0f-b9a2bfafd671', 'name': 'StrOutputParser', 'tags': ['seq:step:4'], 'metadata': {}, 'data': {'chunk': '文'}, 'parent_ids': ['b2e8195d-6001-4c24-93d0-26eeaed3948d']}\n",
      "{'event': 'on_chain_stream', 'run_id': 'b2e8195d-6001-4c24-93d0-26eeaed3948d', 'name': 'RunnableSequence', 'tags': [], 'metadata': {}, 'data': {'chunk': '文'}, 'parent_ids': []}\n",
      "{'event': 'on_chat_model_stream', 'data': {'chunk': AIMessageChunk(content='脈', additional_kwargs={}, response_metadata={}, id='run-875b9c46-9468-49bb-9497-c570469632ac')}, 'run_id': '875b9c46-9468-49bb-9497-c570469632ac', 'name': 'ChatOpenAI', 'tags': ['seq:step:3'], 'metadata': {'ls_provider': 'openai', 'ls_model_name': 'gpt-4o-mini', 'ls_model_type': 'chat', 'ls_temperature': 0.0}, 'parent_ids': ['b2e8195d-6001-4c24-93d0-26eeaed3948d']}\n",
      "{'event': 'on_parser_stream', 'run_id': '92f1b9e0-3da5-4519-ab0f-b9a2bfafd671', 'name': 'StrOutputParser', 'tags': ['seq:step:4'], 'metadata': {}, 'data': {'chunk': '脈'}, 'parent_ids': ['b2e8195d-6001-4c24-93d0-26eeaed3948d']}\n",
      "{'event': 'on_chain_stream', 'run_id': 'b2e8195d-6001-4c24-93d0-26eeaed3948d', 'name': 'RunnableSequence', 'tags': [], 'metadata': {}, 'data': {'chunk': '脈'}, 'parent_ids': []}\n",
      "{'event': 'on_chat_model_stream', 'data': {'chunk': AIMessageChunk(content='には', additional_kwargs={}, response_metadata={}, id='run-875b9c46-9468-49bb-9497-c570469632ac')}, 'run_id': '875b9c46-9468-49bb-9497-c570469632ac', 'name': 'ChatOpenAI', 'tags': ['seq:step:3'], 'metadata': {'ls_provider': 'openai', 'ls_model_name': 'gpt-4o-mini', 'ls_model_type': 'chat', 'ls_temperature': 0.0}, 'parent_ids': ['b2e8195d-6001-4c24-93d0-26eeaed3948d']}\n",
      "{'event': 'on_parser_stream', 'run_id': '92f1b9e0-3da5-4519-ab0f-b9a2bfafd671', 'name': 'StrOutputParser', 'tags': ['seq:step:4'], 'metadata': {}, 'data': {'chunk': 'には'}, 'parent_ids': ['b2e8195d-6001-4c24-93d0-26eeaed3948d']}\n",
      "{'event': 'on_chain_stream', 'run_id': 'b2e8195d-6001-4c24-93d0-26eeaed3948d', 'name': 'RunnableSequence', 'tags': [], 'metadata': {}, 'data': {'chunk': 'には'}, 'parent_ids': []}\n",
      "{'event': 'on_chat_model_stream', 'data': {'chunk': AIMessageChunk(content='具体', additional_kwargs={}, response_metadata={}, id='run-875b9c46-9468-49bb-9497-c570469632ac')}, 'run_id': '875b9c46-9468-49bb-9497-c570469632ac', 'name': 'ChatOpenAI', 'tags': ['seq:step:3'], 'metadata': {'ls_provider': 'openai', 'ls_model_name': 'gpt-4o-mini', 'ls_model_type': 'chat', 'ls_temperature': 0.0}, 'parent_ids': ['b2e8195d-6001-4c24-93d0-26eeaed3948d']}\n",
      "{'event': 'on_parser_stream', 'run_id': '92f1b9e0-3da5-4519-ab0f-b9a2bfafd671', 'name': 'StrOutputParser', 'tags': ['seq:step:4'], 'metadata': {}, 'data': {'chunk': '具体'}, 'parent_ids': ['b2e8195d-6001-4c24-93d0-26eeaed3948d']}\n",
      "{'event': 'on_chain_stream', 'run_id': 'b2e8195d-6001-4c24-93d0-26eeaed3948d', 'name': 'RunnableSequence', 'tags': [], 'metadata': {}, 'data': {'chunk': '具体'}, 'parent_ids': []}\n",
      "{'event': 'on_chat_model_stream', 'data': {'chunk': AIMessageChunk(content='的', additional_kwargs={}, response_metadata={}, id='run-875b9c46-9468-49bb-9497-c570469632ac')}, 'run_id': '875b9c46-9468-49bb-9497-c570469632ac', 'name': 'ChatOpenAI', 'tags': ['seq:step:3'], 'metadata': {'ls_provider': 'openai', 'ls_model_name': 'gpt-4o-mini', 'ls_model_type': 'chat', 'ls_temperature': 0.0}, 'parent_ids': ['b2e8195d-6001-4c24-93d0-26eeaed3948d']}\n",
      "{'event': 'on_parser_stream', 'run_id': '92f1b9e0-3da5-4519-ab0f-b9a2bfafd671', 'name': 'StrOutputParser', 'tags': ['seq:step:4'], 'metadata': {}, 'data': {'chunk': '的'}, 'parent_ids': ['b2e8195d-6001-4c24-93d0-26eeaed3948d']}\n",
      "{'event': 'on_chain_stream', 'run_id': 'b2e8195d-6001-4c24-93d0-26eeaed3948d', 'name': 'RunnableSequence', 'tags': [], 'metadata': {}, 'data': {'chunk': '的'}, 'parent_ids': []}\n",
      "{'event': 'on_chat_model_stream', 'data': {'chunk': AIMessageChunk(content='な', additional_kwargs={}, response_metadata={}, id='run-875b9c46-9468-49bb-9497-c570469632ac')}, 'run_id': '875b9c46-9468-49bb-9497-c570469632ac', 'name': 'ChatOpenAI', 'tags': ['seq:step:3'], 'metadata': {'ls_provider': 'openai', 'ls_model_name': 'gpt-4o-mini', 'ls_model_type': 'chat', 'ls_temperature': 0.0}, 'parent_ids': ['b2e8195d-6001-4c24-93d0-26eeaed3948d']}\n",
      "{'event': 'on_parser_stream', 'run_id': '92f1b9e0-3da5-4519-ab0f-b9a2bfafd671', 'name': 'StrOutputParser', 'tags': ['seq:step:4'], 'metadata': {}, 'data': {'chunk': 'な'}, 'parent_ids': ['b2e8195d-6001-4c24-93d0-26eeaed3948d']}\n",
      "{'event': 'on_chain_stream', 'run_id': 'b2e8195d-6001-4c24-93d0-26eeaed3948d', 'name': 'RunnableSequence', 'tags': [], 'metadata': {}, 'data': {'chunk': 'な'}, 'parent_ids': []}\n",
      "{'event': 'on_chat_model_stream', 'data': {'chunk': AIMessageChunk(content='今日', additional_kwargs={}, response_metadata={}, id='run-875b9c46-9468-49bb-9497-c570469632ac')}, 'run_id': '875b9c46-9468-49bb-9497-c570469632ac', 'name': 'ChatOpenAI', 'tags': ['seq:step:3'], 'metadata': {'ls_provider': 'openai', 'ls_model_name': 'gpt-4o-mini', 'ls_model_type': 'chat', 'ls_temperature': 0.0}, 'parent_ids': ['b2e8195d-6001-4c24-93d0-26eeaed3948d']}\n",
      "{'event': 'on_parser_stream', 'run_id': '92f1b9e0-3da5-4519-ab0f-b9a2bfafd671', 'name': 'StrOutputParser', 'tags': ['seq:step:4'], 'metadata': {}, 'data': {'chunk': '今日'}, 'parent_ids': ['b2e8195d-6001-4c24-93d0-26eeaed3948d']}\n",
      "{'event': 'on_chain_stream', 'run_id': 'b2e8195d-6001-4c24-93d0-26eeaed3948d', 'name': 'RunnableSequence', 'tags': [], 'metadata': {}, 'data': {'chunk': '今日'}, 'parent_ids': []}\n",
      "{'event': 'on_chat_model_stream', 'data': {'chunk': AIMessageChunk(content='の', additional_kwargs={}, response_metadata={}, id='run-875b9c46-9468-49bb-9497-c570469632ac')}, 'run_id': '875b9c46-9468-49bb-9497-c570469632ac', 'name': 'ChatOpenAI', 'tags': ['seq:step:3'], 'metadata': {'ls_provider': 'openai', 'ls_model_name': 'gpt-4o-mini', 'ls_model_type': 'chat', 'ls_temperature': 0.0}, 'parent_ids': ['b2e8195d-6001-4c24-93d0-26eeaed3948d']}\n",
      "{'event': 'on_parser_stream', 'run_id': '92f1b9e0-3da5-4519-ab0f-b9a2bfafd671', 'name': 'StrOutputParser', 'tags': ['seq:step:4'], 'metadata': {}, 'data': {'chunk': 'の'}, 'parent_ids': ['b2e8195d-6001-4c24-93d0-26eeaed3948d']}\n",
      "{'event': 'on_chain_stream', 'run_id': 'b2e8195d-6001-4c24-93d0-26eeaed3948d', 'name': 'RunnableSequence', 'tags': [], 'metadata': {}, 'data': {'chunk': 'の'}, 'parent_ids': []}\n",
      "{'event': 'on_chat_model_stream', 'data': {'chunk': AIMessageChunk(content='天', additional_kwargs={}, response_metadata={}, id='run-875b9c46-9468-49bb-9497-c570469632ac')}, 'run_id': '875b9c46-9468-49bb-9497-c570469632ac', 'name': 'ChatOpenAI', 'tags': ['seq:step:3'], 'metadata': {'ls_provider': 'openai', 'ls_model_name': 'gpt-4o-mini', 'ls_model_type': 'chat', 'ls_temperature': 0.0}, 'parent_ids': ['b2e8195d-6001-4c24-93d0-26eeaed3948d']}\n",
      "{'event': 'on_parser_stream', 'run_id': '92f1b9e0-3da5-4519-ab0f-b9a2bfafd671', 'name': 'StrOutputParser', 'tags': ['seq:step:4'], 'metadata': {}, 'data': {'chunk': '天'}, 'parent_ids': ['b2e8195d-6001-4c24-93d0-26eeaed3948d']}\n",
      "{'event': 'on_chain_stream', 'run_id': 'b2e8195d-6001-4c24-93d0-26eeaed3948d', 'name': 'RunnableSequence', 'tags': [], 'metadata': {}, 'data': {'chunk': '天'}, 'parent_ids': []}\n",
      "{'event': 'on_chat_model_stream', 'data': {'chunk': AIMessageChunk(content='気', additional_kwargs={}, response_metadata={}, id='run-875b9c46-9468-49bb-9497-c570469632ac')}, 'run_id': '875b9c46-9468-49bb-9497-c570469632ac', 'name': 'ChatOpenAI', 'tags': ['seq:step:3'], 'metadata': {'ls_provider': 'openai', 'ls_model_name': 'gpt-4o-mini', 'ls_model_type': 'chat', 'ls_temperature': 0.0}, 'parent_ids': ['b2e8195d-6001-4c24-93d0-26eeaed3948d']}\n",
      "{'event': 'on_parser_stream', 'run_id': '92f1b9e0-3da5-4519-ab0f-b9a2bfafd671', 'name': 'StrOutputParser', 'tags': ['seq:step:4'], 'metadata': {}, 'data': {'chunk': '気'}, 'parent_ids': ['b2e8195d-6001-4c24-93d0-26eeaed3948d']}\n",
      "{'event': 'on_chain_stream', 'run_id': 'b2e8195d-6001-4c24-93d0-26eeaed3948d', 'name': 'RunnableSequence', 'tags': [], 'metadata': {}, 'data': {'chunk': '気'}, 'parent_ids': []}\n",
      "{'event': 'on_chat_model_stream', 'data': {'chunk': AIMessageChunk(content='の', additional_kwargs={}, response_metadata={}, id='run-875b9c46-9468-49bb-9497-c570469632ac')}, 'run_id': '875b9c46-9468-49bb-9497-c570469632ac', 'name': 'ChatOpenAI', 'tags': ['seq:step:3'], 'metadata': {'ls_provider': 'openai', 'ls_model_name': 'gpt-4o-mini', 'ls_model_type': 'chat', 'ls_temperature': 0.0}, 'parent_ids': ['b2e8195d-6001-4c24-93d0-26eeaed3948d']}\n",
      "{'event': 'on_parser_stream', 'run_id': '92f1b9e0-3da5-4519-ab0f-b9a2bfafd671', 'name': 'StrOutputParser', 'tags': ['seq:step:4'], 'metadata': {}, 'data': {'chunk': 'の'}, 'parent_ids': ['b2e8195d-6001-4c24-93d0-26eeaed3948d']}\n",
      "{'event': 'on_chain_stream', 'run_id': 'b2e8195d-6001-4c24-93d0-26eeaed3948d', 'name': 'RunnableSequence', 'tags': [], 'metadata': {}, 'data': {'chunk': 'の'}, 'parent_ids': []}\n",
      "{'event': 'on_chat_model_stream', 'data': {'chunk': AIMessageChunk(content='情報', additional_kwargs={}, response_metadata={}, id='run-875b9c46-9468-49bb-9497-c570469632ac')}, 'run_id': '875b9c46-9468-49bb-9497-c570469632ac', 'name': 'ChatOpenAI', 'tags': ['seq:step:3'], 'metadata': {'ls_provider': 'openai', 'ls_model_name': 'gpt-4o-mini', 'ls_model_type': 'chat', 'ls_temperature': 0.0}, 'parent_ids': ['b2e8195d-6001-4c24-93d0-26eeaed3948d']}\n",
      "{'event': 'on_parser_stream', 'run_id': '92f1b9e0-3da5-4519-ab0f-b9a2bfafd671', 'name': 'StrOutputParser', 'tags': ['seq:step:4'], 'metadata': {}, 'data': {'chunk': '情報'}, 'parent_ids': ['b2e8195d-6001-4c24-93d0-26eeaed3948d']}\n",
      "{'event': 'on_chain_stream', 'run_id': 'b2e8195d-6001-4c24-93d0-26eeaed3948d', 'name': 'RunnableSequence', 'tags': [], 'metadata': {}, 'data': {'chunk': '情報'}, 'parent_ids': []}\n",
      "{'event': 'on_chat_model_stream', 'data': {'chunk': AIMessageChunk(content='は', additional_kwargs={}, response_metadata={}, id='run-875b9c46-9468-49bb-9497-c570469632ac')}, 'run_id': '875b9c46-9468-49bb-9497-c570469632ac', 'name': 'ChatOpenAI', 'tags': ['seq:step:3'], 'metadata': {'ls_provider': 'openai', 'ls_model_name': 'gpt-4o-mini', 'ls_model_type': 'chat', 'ls_temperature': 0.0}, 'parent_ids': ['b2e8195d-6001-4c24-93d0-26eeaed3948d']}\n",
      "{'event': 'on_parser_stream', 'run_id': '92f1b9e0-3da5-4519-ab0f-b9a2bfafd671', 'name': 'StrOutputParser', 'tags': ['seq:step:4'], 'metadata': {}, 'data': {'chunk': 'は'}, 'parent_ids': ['b2e8195d-6001-4c24-93d0-26eeaed3948d']}\n",
      "{'event': 'on_chain_stream', 'run_id': 'b2e8195d-6001-4c24-93d0-26eeaed3948d', 'name': 'RunnableSequence', 'tags': [], 'metadata': {}, 'data': {'chunk': 'は'}, 'parent_ids': []}\n",
      "{'event': 'on_chat_model_stream', 'data': {'chunk': AIMessageChunk(content='含', additional_kwargs={}, response_metadata={}, id='run-875b9c46-9468-49bb-9497-c570469632ac')}, 'run_id': '875b9c46-9468-49bb-9497-c570469632ac', 'name': 'ChatOpenAI', 'tags': ['seq:step:3'], 'metadata': {'ls_provider': 'openai', 'ls_model_name': 'gpt-4o-mini', 'ls_model_type': 'chat', 'ls_temperature': 0.0}, 'parent_ids': ['b2e8195d-6001-4c24-93d0-26eeaed3948d']}\n",
      "{'event': 'on_parser_stream', 'run_id': '92f1b9e0-3da5-4519-ab0f-b9a2bfafd671', 'name': 'StrOutputParser', 'tags': ['seq:step:4'], 'metadata': {}, 'data': {'chunk': '含'}, 'parent_ids': ['b2e8195d-6001-4c24-93d0-26eeaed3948d']}\n",
      "{'event': 'on_chain_stream', 'run_id': 'b2e8195d-6001-4c24-93d0-26eeaed3948d', 'name': 'RunnableSequence', 'tags': [], 'metadata': {}, 'data': {'chunk': '含'}, 'parent_ids': []}\n",
      "{'event': 'on_chat_model_stream', 'data': {'chunk': AIMessageChunk(content='ま', additional_kwargs={}, response_metadata={}, id='run-875b9c46-9468-49bb-9497-c570469632ac')}, 'run_id': '875b9c46-9468-49bb-9497-c570469632ac', 'name': 'ChatOpenAI', 'tags': ['seq:step:3'], 'metadata': {'ls_provider': 'openai', 'ls_model_name': 'gpt-4o-mini', 'ls_model_type': 'chat', 'ls_temperature': 0.0}, 'parent_ids': ['b2e8195d-6001-4c24-93d0-26eeaed3948d']}\n",
      "{'event': 'on_parser_stream', 'run_id': '92f1b9e0-3da5-4519-ab0f-b9a2bfafd671', 'name': 'StrOutputParser', 'tags': ['seq:step:4'], 'metadata': {}, 'data': {'chunk': 'ま'}, 'parent_ids': ['b2e8195d-6001-4c24-93d0-26eeaed3948d']}\n",
      "{'event': 'on_chain_stream', 'run_id': 'b2e8195d-6001-4c24-93d0-26eeaed3948d', 'name': 'RunnableSequence', 'tags': [], 'metadata': {}, 'data': {'chunk': 'ま'}, 'parent_ids': []}\n",
      "{'event': 'on_chat_model_stream', 'data': {'chunk': AIMessageChunk(content='れて', additional_kwargs={}, response_metadata={}, id='run-875b9c46-9468-49bb-9497-c570469632ac')}, 'run_id': '875b9c46-9468-49bb-9497-c570469632ac', 'name': 'ChatOpenAI', 'tags': ['seq:step:3'], 'metadata': {'ls_provider': 'openai', 'ls_model_name': 'gpt-4o-mini', 'ls_model_type': 'chat', 'ls_temperature': 0.0}, 'parent_ids': ['b2e8195d-6001-4c24-93d0-26eeaed3948d']}\n",
      "{'event': 'on_parser_stream', 'run_id': '92f1b9e0-3da5-4519-ab0f-b9a2bfafd671', 'name': 'StrOutputParser', 'tags': ['seq:step:4'], 'metadata': {}, 'data': {'chunk': 'れて'}, 'parent_ids': ['b2e8195d-6001-4c24-93d0-26eeaed3948d']}\n",
      "{'event': 'on_chain_stream', 'run_id': 'b2e8195d-6001-4c24-93d0-26eeaed3948d', 'name': 'RunnableSequence', 'tags': [], 'metadata': {}, 'data': {'chunk': 'れて'}, 'parent_ids': []}\n",
      "{'event': 'on_chat_model_stream', 'data': {'chunk': AIMessageChunk(content='い', additional_kwargs={}, response_metadata={}, id='run-875b9c46-9468-49bb-9497-c570469632ac')}, 'run_id': '875b9c46-9468-49bb-9497-c570469632ac', 'name': 'ChatOpenAI', 'tags': ['seq:step:3'], 'metadata': {'ls_provider': 'openai', 'ls_model_name': 'gpt-4o-mini', 'ls_model_type': 'chat', 'ls_temperature': 0.0}, 'parent_ids': ['b2e8195d-6001-4c24-93d0-26eeaed3948d']}\n",
      "{'event': 'on_parser_stream', 'run_id': '92f1b9e0-3da5-4519-ab0f-b9a2bfafd671', 'name': 'StrOutputParser', 'tags': ['seq:step:4'], 'metadata': {}, 'data': {'chunk': 'い'}, 'parent_ids': ['b2e8195d-6001-4c24-93d0-26eeaed3948d']}\n",
      "{'event': 'on_chain_stream', 'run_id': 'b2e8195d-6001-4c24-93d0-26eeaed3948d', 'name': 'RunnableSequence', 'tags': [], 'metadata': {}, 'data': {'chunk': 'い'}, 'parent_ids': []}\n",
      "{'event': 'on_chat_model_stream', 'data': {'chunk': AIMessageChunk(content='ません', additional_kwargs={}, response_metadata={}, id='run-875b9c46-9468-49bb-9497-c570469632ac')}, 'run_id': '875b9c46-9468-49bb-9497-c570469632ac', 'name': 'ChatOpenAI', 'tags': ['seq:step:3'], 'metadata': {'ls_provider': 'openai', 'ls_model_name': 'gpt-4o-mini', 'ls_model_type': 'chat', 'ls_temperature': 0.0}, 'parent_ids': ['b2e8195d-6001-4c24-93d0-26eeaed3948d']}\n",
      "{'event': 'on_parser_stream', 'run_id': '92f1b9e0-3da5-4519-ab0f-b9a2bfafd671', 'name': 'StrOutputParser', 'tags': ['seq:step:4'], 'metadata': {}, 'data': {'chunk': 'ません'}, 'parent_ids': ['b2e8195d-6001-4c24-93d0-26eeaed3948d']}\n",
      "{'event': 'on_chain_stream', 'run_id': 'b2e8195d-6001-4c24-93d0-26eeaed3948d', 'name': 'RunnableSequence', 'tags': [], 'metadata': {}, 'data': {'chunk': 'ません'}, 'parent_ids': []}\n",
      "{'event': 'on_chat_model_stream', 'data': {'chunk': AIMessageChunk(content='が', additional_kwargs={}, response_metadata={}, id='run-875b9c46-9468-49bb-9497-c570469632ac')}, 'run_id': '875b9c46-9468-49bb-9497-c570469632ac', 'name': 'ChatOpenAI', 'tags': ['seq:step:3'], 'metadata': {'ls_provider': 'openai', 'ls_model_name': 'gpt-4o-mini', 'ls_model_type': 'chat', 'ls_temperature': 0.0}, 'parent_ids': ['b2e8195d-6001-4c24-93d0-26eeaed3948d']}\n",
      "{'event': 'on_parser_stream', 'run_id': '92f1b9e0-3da5-4519-ab0f-b9a2bfafd671', 'name': 'StrOutputParser', 'tags': ['seq:step:4'], 'metadata': {}, 'data': {'chunk': 'が'}, 'parent_ids': ['b2e8195d-6001-4c24-93d0-26eeaed3948d']}\n",
      "{'event': 'on_chain_stream', 'run_id': 'b2e8195d-6001-4c24-93d0-26eeaed3948d', 'name': 'RunnableSequence', 'tags': [], 'metadata': {}, 'data': {'chunk': 'が'}, 'parent_ids': []}\n",
      "{'event': 'on_chat_model_stream', 'data': {'chunk': AIMessageChunk(content='、', additional_kwargs={}, response_metadata={}, id='run-875b9c46-9468-49bb-9497-c570469632ac')}, 'run_id': '875b9c46-9468-49bb-9497-c570469632ac', 'name': 'ChatOpenAI', 'tags': ['seq:step:3'], 'metadata': {'ls_provider': 'openai', 'ls_model_name': 'gpt-4o-mini', 'ls_model_type': 'chat', 'ls_temperature': 0.0}, 'parent_ids': ['b2e8195d-6001-4c24-93d0-26eeaed3948d']}\n",
      "{'event': 'on_parser_stream', 'run_id': '92f1b9e0-3da5-4519-ab0f-b9a2bfafd671', 'name': 'StrOutputParser', 'tags': ['seq:step:4'], 'metadata': {}, 'data': {'chunk': '、'}, 'parent_ids': ['b2e8195d-6001-4c24-93d0-26eeaed3948d']}\n",
      "{'event': 'on_chain_stream', 'run_id': 'b2e8195d-6001-4c24-93d0-26eeaed3948d', 'name': 'RunnableSequence', 'tags': [], 'metadata': {}, 'data': {'chunk': '、'}, 'parent_ids': []}\n",
      "{'event': 'on_chat_model_stream', 'data': {'chunk': AIMessageChunk(content='東京', additional_kwargs={}, response_metadata={}, id='run-875b9c46-9468-49bb-9497-c570469632ac')}, 'run_id': '875b9c46-9468-49bb-9497-c570469632ac', 'name': 'ChatOpenAI', 'tags': ['seq:step:3'], 'metadata': {'ls_provider': 'openai', 'ls_model_name': 'gpt-4o-mini', 'ls_model_type': 'chat', 'ls_temperature': 0.0}, 'parent_ids': ['b2e8195d-6001-4c24-93d0-26eeaed3948d']}\n",
      "{'event': 'on_parser_stream', 'run_id': '92f1b9e0-3da5-4519-ab0f-b9a2bfafd671', 'name': 'StrOutputParser', 'tags': ['seq:step:4'], 'metadata': {}, 'data': {'chunk': '東京'}, 'parent_ids': ['b2e8195d-6001-4c24-93d0-26eeaed3948d']}\n",
      "{'event': 'on_chain_stream', 'run_id': 'b2e8195d-6001-4c24-93d0-26eeaed3948d', 'name': 'RunnableSequence', 'tags': [], 'metadata': {}, 'data': {'chunk': '東京'}, 'parent_ids': []}\n",
      "{'event': 'on_chat_model_stream', 'data': {'chunk': AIMessageChunk(content='の', additional_kwargs={}, response_metadata={}, id='run-875b9c46-9468-49bb-9497-c570469632ac')}, 'run_id': '875b9c46-9468-49bb-9497-c570469632ac', 'name': 'ChatOpenAI', 'tags': ['seq:step:3'], 'metadata': {'ls_provider': 'openai', 'ls_model_name': 'gpt-4o-mini', 'ls_model_type': 'chat', 'ls_temperature': 0.0}, 'parent_ids': ['b2e8195d-6001-4c24-93d0-26eeaed3948d']}\n",
      "{'event': 'on_parser_stream', 'run_id': '92f1b9e0-3da5-4519-ab0f-b9a2bfafd671', 'name': 'StrOutputParser', 'tags': ['seq:step:4'], 'metadata': {}, 'data': {'chunk': 'の'}, 'parent_ids': ['b2e8195d-6001-4c24-93d0-26eeaed3948d']}\n",
      "{'event': 'on_chain_stream', 'run_id': 'b2e8195d-6001-4c24-93d0-26eeaed3948d', 'name': 'RunnableSequence', 'tags': [], 'metadata': {}, 'data': {'chunk': 'の'}, 'parent_ids': []}\n",
      "{'event': 'on_chat_model_stream', 'data': {'chunk': AIMessageChunk(content='天', additional_kwargs={}, response_metadata={}, id='run-875b9c46-9468-49bb-9497-c570469632ac')}, 'run_id': '875b9c46-9468-49bb-9497-c570469632ac', 'name': 'ChatOpenAI', 'tags': ['seq:step:3'], 'metadata': {'ls_provider': 'openai', 'ls_model_name': 'gpt-4o-mini', 'ls_model_type': 'chat', 'ls_temperature': 0.0}, 'parent_ids': ['b2e8195d-6001-4c24-93d0-26eeaed3948d']}\n",
      "{'event': 'on_parser_stream', 'run_id': '92f1b9e0-3da5-4519-ab0f-b9a2bfafd671', 'name': 'StrOutputParser', 'tags': ['seq:step:4'], 'metadata': {}, 'data': {'chunk': '天'}, 'parent_ids': ['b2e8195d-6001-4c24-93d0-26eeaed3948d']}\n",
      "{'event': 'on_chain_stream', 'run_id': 'b2e8195d-6001-4c24-93d0-26eeaed3948d', 'name': 'RunnableSequence', 'tags': [], 'metadata': {}, 'data': {'chunk': '天'}, 'parent_ids': []}\n",
      "{'event': 'on_chat_model_stream', 'data': {'chunk': AIMessageChunk(content='気', additional_kwargs={}, response_metadata={}, id='run-875b9c46-9468-49bb-9497-c570469632ac')}, 'run_id': '875b9c46-9468-49bb-9497-c570469632ac', 'name': 'ChatOpenAI', 'tags': ['seq:step:3'], 'metadata': {'ls_provider': 'openai', 'ls_model_name': 'gpt-4o-mini', 'ls_model_type': 'chat', 'ls_temperature': 0.0}, 'parent_ids': ['b2e8195d-6001-4c24-93d0-26eeaed3948d']}\n",
      "{'event': 'on_parser_stream', 'run_id': '92f1b9e0-3da5-4519-ab0f-b9a2bfafd671', 'name': 'StrOutputParser', 'tags': ['seq:step:4'], 'metadata': {}, 'data': {'chunk': '気'}, 'parent_ids': ['b2e8195d-6001-4c24-93d0-26eeaed3948d']}\n",
      "{'event': 'on_chain_stream', 'run_id': 'b2e8195d-6001-4c24-93d0-26eeaed3948d', 'name': 'RunnableSequence', 'tags': [], 'metadata': {}, 'data': {'chunk': '気'}, 'parent_ids': []}\n",
      "{'event': 'on_chat_model_stream', 'data': {'chunk': AIMessageChunk(content='予', additional_kwargs={}, response_metadata={}, id='run-875b9c46-9468-49bb-9497-c570469632ac')}, 'run_id': '875b9c46-9468-49bb-9497-c570469632ac', 'name': 'ChatOpenAI', 'tags': ['seq:step:3'], 'metadata': {'ls_provider': 'openai', 'ls_model_name': 'gpt-4o-mini', 'ls_model_type': 'chat', 'ls_temperature': 0.0}, 'parent_ids': ['b2e8195d-6001-4c24-93d0-26eeaed3948d']}\n",
      "{'event': 'on_parser_stream', 'run_id': '92f1b9e0-3da5-4519-ab0f-b9a2bfafd671', 'name': 'StrOutputParser', 'tags': ['seq:step:4'], 'metadata': {}, 'data': {'chunk': '予'}, 'parent_ids': ['b2e8195d-6001-4c24-93d0-26eeaed3948d']}\n",
      "{'event': 'on_chain_stream', 'run_id': 'b2e8195d-6001-4c24-93d0-26eeaed3948d', 'name': 'RunnableSequence', 'tags': [], 'metadata': {}, 'data': {'chunk': '予'}, 'parent_ids': []}\n",
      "{'event': 'on_chat_model_stream', 'data': {'chunk': AIMessageChunk(content='報', additional_kwargs={}, response_metadata={}, id='run-875b9c46-9468-49bb-9497-c570469632ac')}, 'run_id': '875b9c46-9468-49bb-9497-c570469632ac', 'name': 'ChatOpenAI', 'tags': ['seq:step:3'], 'metadata': {'ls_provider': 'openai', 'ls_model_name': 'gpt-4o-mini', 'ls_model_type': 'chat', 'ls_temperature': 0.0}, 'parent_ids': ['b2e8195d-6001-4c24-93d0-26eeaed3948d']}\n",
      "{'event': 'on_parser_stream', 'run_id': '92f1b9e0-3da5-4519-ab0f-b9a2bfafd671', 'name': 'StrOutputParser', 'tags': ['seq:step:4'], 'metadata': {}, 'data': {'chunk': '報'}, 'parent_ids': ['b2e8195d-6001-4c24-93d0-26eeaed3948d']}\n",
      "{'event': 'on_chain_stream', 'run_id': 'b2e8195d-6001-4c24-93d0-26eeaed3948d', 'name': 'RunnableSequence', 'tags': [], 'metadata': {}, 'data': {'chunk': '報'}, 'parent_ids': []}\n",
      "{'event': 'on_chat_model_stream', 'data': {'chunk': AIMessageChunk(content='が', additional_kwargs={}, response_metadata={}, id='run-875b9c46-9468-49bb-9497-c570469632ac')}, 'run_id': '875b9c46-9468-49bb-9497-c570469632ac', 'name': 'ChatOpenAI', 'tags': ['seq:step:3'], 'metadata': {'ls_provider': 'openai', 'ls_model_name': 'gpt-4o-mini', 'ls_model_type': 'chat', 'ls_temperature': 0.0}, 'parent_ids': ['b2e8195d-6001-4c24-93d0-26eeaed3948d']}\n",
      "{'event': 'on_parser_stream', 'run_id': '92f1b9e0-3da5-4519-ab0f-b9a2bfafd671', 'name': 'StrOutputParser', 'tags': ['seq:step:4'], 'metadata': {}, 'data': {'chunk': 'が'}, 'parent_ids': ['b2e8195d-6001-4c24-93d0-26eeaed3948d']}\n",
      "{'event': 'on_chain_stream', 'run_id': 'b2e8195d-6001-4c24-93d0-26eeaed3948d', 'name': 'RunnableSequence', 'tags': [], 'metadata': {}, 'data': {'chunk': 'が'}, 'parent_ids': []}\n",
      "{'event': 'on_chat_model_stream', 'data': {'chunk': AIMessageChunk(content='提供', additional_kwargs={}, response_metadata={}, id='run-875b9c46-9468-49bb-9497-c570469632ac')}, 'run_id': '875b9c46-9468-49bb-9497-c570469632ac', 'name': 'ChatOpenAI', 'tags': ['seq:step:3'], 'metadata': {'ls_provider': 'openai', 'ls_model_name': 'gpt-4o-mini', 'ls_model_type': 'chat', 'ls_temperature': 0.0}, 'parent_ids': ['b2e8195d-6001-4c24-93d0-26eeaed3948d']}\n",
      "{'event': 'on_parser_stream', 'run_id': '92f1b9e0-3da5-4519-ab0f-b9a2bfafd671', 'name': 'StrOutputParser', 'tags': ['seq:step:4'], 'metadata': {}, 'data': {'chunk': '提供'}, 'parent_ids': ['b2e8195d-6001-4c24-93d0-26eeaed3948d']}\n",
      "{'event': 'on_chain_stream', 'run_id': 'b2e8195d-6001-4c24-93d0-26eeaed3948d', 'name': 'RunnableSequence', 'tags': [], 'metadata': {}, 'data': {'chunk': '提供'}, 'parent_ids': []}\n",
      "{'event': 'on_chat_model_stream', 'data': {'chunk': AIMessageChunk(content='され', additional_kwargs={}, response_metadata={}, id='run-875b9c46-9468-49bb-9497-c570469632ac')}, 'run_id': '875b9c46-9468-49bb-9497-c570469632ac', 'name': 'ChatOpenAI', 'tags': ['seq:step:3'], 'metadata': {'ls_provider': 'openai', 'ls_model_name': 'gpt-4o-mini', 'ls_model_type': 'chat', 'ls_temperature': 0.0}, 'parent_ids': ['b2e8195d-6001-4c24-93d0-26eeaed3948d']}\n",
      "{'event': 'on_parser_stream', 'run_id': '92f1b9e0-3da5-4519-ab0f-b9a2bfafd671', 'name': 'StrOutputParser', 'tags': ['seq:step:4'], 'metadata': {}, 'data': {'chunk': 'され'}, 'parent_ids': ['b2e8195d-6001-4c24-93d0-26eeaed3948d']}\n",
      "{'event': 'on_chain_stream', 'run_id': 'b2e8195d-6001-4c24-93d0-26eeaed3948d', 'name': 'RunnableSequence', 'tags': [], 'metadata': {}, 'data': {'chunk': 'され'}, 'parent_ids': []}\n",
      "{'event': 'on_chat_model_stream', 'data': {'chunk': AIMessageChunk(content='て', additional_kwargs={}, response_metadata={}, id='run-875b9c46-9468-49bb-9497-c570469632ac')}, 'run_id': '875b9c46-9468-49bb-9497-c570469632ac', 'name': 'ChatOpenAI', 'tags': ['seq:step:3'], 'metadata': {'ls_provider': 'openai', 'ls_model_name': 'gpt-4o-mini', 'ls_model_type': 'chat', 'ls_temperature': 0.0}, 'parent_ids': ['b2e8195d-6001-4c24-93d0-26eeaed3948d']}\n",
      "{'event': 'on_parser_stream', 'run_id': '92f1b9e0-3da5-4519-ab0f-b9a2bfafd671', 'name': 'StrOutputParser', 'tags': ['seq:step:4'], 'metadata': {}, 'data': {'chunk': 'て'}, 'parent_ids': ['b2e8195d-6001-4c24-93d0-26eeaed3948d']}\n",
      "{'event': 'on_chain_stream', 'run_id': 'b2e8195d-6001-4c24-93d0-26eeaed3948d', 'name': 'RunnableSequence', 'tags': [], 'metadata': {}, 'data': {'chunk': 'て'}, 'parent_ids': []}\n",
      "{'event': 'on_chat_model_stream', 'data': {'chunk': AIMessageChunk(content='いる', additional_kwargs={}, response_metadata={}, id='run-875b9c46-9468-49bb-9497-c570469632ac')}, 'run_id': '875b9c46-9468-49bb-9497-c570469632ac', 'name': 'ChatOpenAI', 'tags': ['seq:step:3'], 'metadata': {'ls_provider': 'openai', 'ls_model_name': 'gpt-4o-mini', 'ls_model_type': 'chat', 'ls_temperature': 0.0}, 'parent_ids': ['b2e8195d-6001-4c24-93d0-26eeaed3948d']}\n",
      "{'event': 'on_parser_stream', 'run_id': '92f1b9e0-3da5-4519-ab0f-b9a2bfafd671', 'name': 'StrOutputParser', 'tags': ['seq:step:4'], 'metadata': {}, 'data': {'chunk': 'いる'}, 'parent_ids': ['b2e8195d-6001-4c24-93d0-26eeaed3948d']}\n",
      "{'event': 'on_chain_stream', 'run_id': 'b2e8195d-6001-4c24-93d0-26eeaed3948d', 'name': 'RunnableSequence', 'tags': [], 'metadata': {}, 'data': {'chunk': 'いる'}, 'parent_ids': []}\n",
      "{'event': 'on_chat_model_stream', 'data': {'chunk': AIMessageChunk(content='こと', additional_kwargs={}, response_metadata={}, id='run-875b9c46-9468-49bb-9497-c570469632ac')}, 'run_id': '875b9c46-9468-49bb-9497-c570469632ac', 'name': 'ChatOpenAI', 'tags': ['seq:step:3'], 'metadata': {'ls_provider': 'openai', 'ls_model_name': 'gpt-4o-mini', 'ls_model_type': 'chat', 'ls_temperature': 0.0}, 'parent_ids': ['b2e8195d-6001-4c24-93d0-26eeaed3948d']}\n",
      "{'event': 'on_parser_stream', 'run_id': '92f1b9e0-3da5-4519-ab0f-b9a2bfafd671', 'name': 'StrOutputParser', 'tags': ['seq:step:4'], 'metadata': {}, 'data': {'chunk': 'こと'}, 'parent_ids': ['b2e8195d-6001-4c24-93d0-26eeaed3948d']}\n",
      "{'event': 'on_chain_stream', 'run_id': 'b2e8195d-6001-4c24-93d0-26eeaed3948d', 'name': 'RunnableSequence', 'tags': [], 'metadata': {}, 'data': {'chunk': 'こと'}, 'parent_ids': []}\n",
      "{'event': 'on_chat_model_stream', 'data': {'chunk': AIMessageChunk(content='が', additional_kwargs={}, response_metadata={}, id='run-875b9c46-9468-49bb-9497-c570469632ac')}, 'run_id': '875b9c46-9468-49bb-9497-c570469632ac', 'name': 'ChatOpenAI', 'tags': ['seq:step:3'], 'metadata': {'ls_provider': 'openai', 'ls_model_name': 'gpt-4o-mini', 'ls_model_type': 'chat', 'ls_temperature': 0.0}, 'parent_ids': ['b2e8195d-6001-4c24-93d0-26eeaed3948d']}\n",
      "{'event': 'on_parser_stream', 'run_id': '92f1b9e0-3da5-4519-ab0f-b9a2bfafd671', 'name': 'StrOutputParser', 'tags': ['seq:step:4'], 'metadata': {}, 'data': {'chunk': 'が'}, 'parent_ids': ['b2e8195d-6001-4c24-93d0-26eeaed3948d']}\n",
      "{'event': 'on_chain_stream', 'run_id': 'b2e8195d-6001-4c24-93d0-26eeaed3948d', 'name': 'RunnableSequence', 'tags': [], 'metadata': {}, 'data': {'chunk': 'が'}, 'parent_ids': []}\n",
      "{'event': 'on_chat_model_stream', 'data': {'chunk': AIMessageChunk(content='示', additional_kwargs={}, response_metadata={}, id='run-875b9c46-9468-49bb-9497-c570469632ac')}, 'run_id': '875b9c46-9468-49bb-9497-c570469632ac', 'name': 'ChatOpenAI', 'tags': ['seq:step:3'], 'metadata': {'ls_provider': 'openai', 'ls_model_name': 'gpt-4o-mini', 'ls_model_type': 'chat', 'ls_temperature': 0.0}, 'parent_ids': ['b2e8195d-6001-4c24-93d0-26eeaed3948d']}\n",
      "{'event': 'on_parser_stream', 'run_id': '92f1b9e0-3da5-4519-ab0f-b9a2bfafd671', 'name': 'StrOutputParser', 'tags': ['seq:step:4'], 'metadata': {}, 'data': {'chunk': '示'}, 'parent_ids': ['b2e8195d-6001-4c24-93d0-26eeaed3948d']}\n",
      "{'event': 'on_chain_stream', 'run_id': 'b2e8195d-6001-4c24-93d0-26eeaed3948d', 'name': 'RunnableSequence', 'tags': [], 'metadata': {}, 'data': {'chunk': '示'}, 'parent_ids': []}\n",
      "{'event': 'on_chat_model_stream', 'data': {'chunk': AIMessageChunk(content='されています', additional_kwargs={}, response_metadata={}, id='run-875b9c46-9468-49bb-9497-c570469632ac')}, 'run_id': '875b9c46-9468-49bb-9497-c570469632ac', 'name': 'ChatOpenAI', 'tags': ['seq:step:3'], 'metadata': {'ls_provider': 'openai', 'ls_model_name': 'gpt-4o-mini', 'ls_model_type': 'chat', 'ls_temperature': 0.0}, 'parent_ids': ['b2e8195d-6001-4c24-93d0-26eeaed3948d']}\n",
      "{'event': 'on_parser_stream', 'run_id': '92f1b9e0-3da5-4519-ab0f-b9a2bfafd671', 'name': 'StrOutputParser', 'tags': ['seq:step:4'], 'metadata': {}, 'data': {'chunk': 'されています'}, 'parent_ids': ['b2e8195d-6001-4c24-93d0-26eeaed3948d']}\n",
      "{'event': 'on_chain_stream', 'run_id': 'b2e8195d-6001-4c24-93d0-26eeaed3948d', 'name': 'RunnableSequence', 'tags': [], 'metadata': {}, 'data': {'chunk': 'されています'}, 'parent_ids': []}\n",
      "{'event': 'on_chat_model_stream', 'data': {'chunk': AIMessageChunk(content='。', additional_kwargs={}, response_metadata={}, id='run-875b9c46-9468-49bb-9497-c570469632ac')}, 'run_id': '875b9c46-9468-49bb-9497-c570469632ac', 'name': 'ChatOpenAI', 'tags': ['seq:step:3'], 'metadata': {'ls_provider': 'openai', 'ls_model_name': 'gpt-4o-mini', 'ls_model_type': 'chat', 'ls_temperature': 0.0}, 'parent_ids': ['b2e8195d-6001-4c24-93d0-26eeaed3948d']}\n",
      "{'event': 'on_parser_stream', 'run_id': '92f1b9e0-3da5-4519-ab0f-b9a2bfafd671', 'name': 'StrOutputParser', 'tags': ['seq:step:4'], 'metadata': {}, 'data': {'chunk': '。'}, 'parent_ids': ['b2e8195d-6001-4c24-93d0-26eeaed3948d']}\n",
      "{'event': 'on_chain_stream', 'run_id': 'b2e8195d-6001-4c24-93d0-26eeaed3948d', 'name': 'RunnableSequence', 'tags': [], 'metadata': {}, 'data': {'chunk': '。'}, 'parent_ids': []}\n",
      "{'event': 'on_chat_model_stream', 'data': {'chunk': AIMessageChunk(content='詳細', additional_kwargs={}, response_metadata={}, id='run-875b9c46-9468-49bb-9497-c570469632ac')}, 'run_id': '875b9c46-9468-49bb-9497-c570469632ac', 'name': 'ChatOpenAI', 'tags': ['seq:step:3'], 'metadata': {'ls_provider': 'openai', 'ls_model_name': 'gpt-4o-mini', 'ls_model_type': 'chat', 'ls_temperature': 0.0}, 'parent_ids': ['b2e8195d-6001-4c24-93d0-26eeaed3948d']}\n",
      "{'event': 'on_parser_stream', 'run_id': '92f1b9e0-3da5-4519-ab0f-b9a2bfafd671', 'name': 'StrOutputParser', 'tags': ['seq:step:4'], 'metadata': {}, 'data': {'chunk': '詳細'}, 'parent_ids': ['b2e8195d-6001-4c24-93d0-26eeaed3948d']}\n",
      "{'event': 'on_chain_stream', 'run_id': 'b2e8195d-6001-4c24-93d0-26eeaed3948d', 'name': 'RunnableSequence', 'tags': [], 'metadata': {}, 'data': {'chunk': '詳細'}, 'parent_ids': []}\n",
      "{'event': 'on_chat_model_stream', 'data': {'chunk': AIMessageChunk(content='な', additional_kwargs={}, response_metadata={}, id='run-875b9c46-9468-49bb-9497-c570469632ac')}, 'run_id': '875b9c46-9468-49bb-9497-c570469632ac', 'name': 'ChatOpenAI', 'tags': ['seq:step:3'], 'metadata': {'ls_provider': 'openai', 'ls_model_name': 'gpt-4o-mini', 'ls_model_type': 'chat', 'ls_temperature': 0.0}, 'parent_ids': ['b2e8195d-6001-4c24-93d0-26eeaed3948d']}\n",
      "{'event': 'on_parser_stream', 'run_id': '92f1b9e0-3da5-4519-ab0f-b9a2bfafd671', 'name': 'StrOutputParser', 'tags': ['seq:step:4'], 'metadata': {}, 'data': {'chunk': 'な'}, 'parent_ids': ['b2e8195d-6001-4c24-93d0-26eeaed3948d']}\n",
      "{'event': 'on_chain_stream', 'run_id': 'b2e8195d-6001-4c24-93d0-26eeaed3948d', 'name': 'RunnableSequence', 'tags': [], 'metadata': {}, 'data': {'chunk': 'な'}, 'parent_ids': []}\n",
      "{'event': 'on_chat_model_stream', 'data': {'chunk': AIMessageChunk(content='天', additional_kwargs={}, response_metadata={}, id='run-875b9c46-9468-49bb-9497-c570469632ac')}, 'run_id': '875b9c46-9468-49bb-9497-c570469632ac', 'name': 'ChatOpenAI', 'tags': ['seq:step:3'], 'metadata': {'ls_provider': 'openai', 'ls_model_name': 'gpt-4o-mini', 'ls_model_type': 'chat', 'ls_temperature': 0.0}, 'parent_ids': ['b2e8195d-6001-4c24-93d0-26eeaed3948d']}\n",
      "{'event': 'on_parser_stream', 'run_id': '92f1b9e0-3da5-4519-ab0f-b9a2bfafd671', 'name': 'StrOutputParser', 'tags': ['seq:step:4'], 'metadata': {}, 'data': {'chunk': '天'}, 'parent_ids': ['b2e8195d-6001-4c24-93d0-26eeaed3948d']}\n",
      "{'event': 'on_chain_stream', 'run_id': 'b2e8195d-6001-4c24-93d0-26eeaed3948d', 'name': 'RunnableSequence', 'tags': [], 'metadata': {}, 'data': {'chunk': '天'}, 'parent_ids': []}\n",
      "{'event': 'on_chat_model_stream', 'data': {'chunk': AIMessageChunk(content='気', additional_kwargs={}, response_metadata={}, id='run-875b9c46-9468-49bb-9497-c570469632ac')}, 'run_id': '875b9c46-9468-49bb-9497-c570469632ac', 'name': 'ChatOpenAI', 'tags': ['seq:step:3'], 'metadata': {'ls_provider': 'openai', 'ls_model_name': 'gpt-4o-mini', 'ls_model_type': 'chat', 'ls_temperature': 0.0}, 'parent_ids': ['b2e8195d-6001-4c24-93d0-26eeaed3948d']}\n",
      "{'event': 'on_parser_stream', 'run_id': '92f1b9e0-3da5-4519-ab0f-b9a2bfafd671', 'name': 'StrOutputParser', 'tags': ['seq:step:4'], 'metadata': {}, 'data': {'chunk': '気'}, 'parent_ids': ['b2e8195d-6001-4c24-93d0-26eeaed3948d']}\n",
      "{'event': 'on_chain_stream', 'run_id': 'b2e8195d-6001-4c24-93d0-26eeaed3948d', 'name': 'RunnableSequence', 'tags': [], 'metadata': {}, 'data': {'chunk': '気'}, 'parent_ids': []}\n",
      "{'event': 'on_chat_model_stream', 'data': {'chunk': AIMessageChunk(content='情報', additional_kwargs={}, response_metadata={}, id='run-875b9c46-9468-49bb-9497-c570469632ac')}, 'run_id': '875b9c46-9468-49bb-9497-c570469632ac', 'name': 'ChatOpenAI', 'tags': ['seq:step:3'], 'metadata': {'ls_provider': 'openai', 'ls_model_name': 'gpt-4o-mini', 'ls_model_type': 'chat', 'ls_temperature': 0.0}, 'parent_ids': ['b2e8195d-6001-4c24-93d0-26eeaed3948d']}\n",
      "{'event': 'on_parser_stream', 'run_id': '92f1b9e0-3da5-4519-ab0f-b9a2bfafd671', 'name': 'StrOutputParser', 'tags': ['seq:step:4'], 'metadata': {}, 'data': {'chunk': '情報'}, 'parent_ids': ['b2e8195d-6001-4c24-93d0-26eeaed3948d']}\n",
      "{'event': 'on_chain_stream', 'run_id': 'b2e8195d-6001-4c24-93d0-26eeaed3948d', 'name': 'RunnableSequence', 'tags': [], 'metadata': {}, 'data': {'chunk': '情報'}, 'parent_ids': []}\n",
      "{'event': 'on_chat_model_stream', 'data': {'chunk': AIMessageChunk(content='は', additional_kwargs={}, response_metadata={}, id='run-875b9c46-9468-49bb-9497-c570469632ac')}, 'run_id': '875b9c46-9468-49bb-9497-c570469632ac', 'name': 'ChatOpenAI', 'tags': ['seq:step:3'], 'metadata': {'ls_provider': 'openai', 'ls_model_name': 'gpt-4o-mini', 'ls_model_type': 'chat', 'ls_temperature': 0.0}, 'parent_ids': ['b2e8195d-6001-4c24-93d0-26eeaed3948d']}\n",
      "{'event': 'on_parser_stream', 'run_id': '92f1b9e0-3da5-4519-ab0f-b9a2bfafd671', 'name': 'StrOutputParser', 'tags': ['seq:step:4'], 'metadata': {}, 'data': {'chunk': 'は'}, 'parent_ids': ['b2e8195d-6001-4c24-93d0-26eeaed3948d']}\n",
      "{'event': 'on_chain_stream', 'run_id': 'b2e8195d-6001-4c24-93d0-26eeaed3948d', 'name': 'RunnableSequence', 'tags': [], 'metadata': {}, 'data': {'chunk': 'は'}, 'parent_ids': []}\n",
      "{'event': 'on_chat_model_stream', 'data': {'chunk': AIMessageChunk(content='、', additional_kwargs={}, response_metadata={}, id='run-875b9c46-9468-49bb-9497-c570469632ac')}, 'run_id': '875b9c46-9468-49bb-9497-c570469632ac', 'name': 'ChatOpenAI', 'tags': ['seq:step:3'], 'metadata': {'ls_provider': 'openai', 'ls_model_name': 'gpt-4o-mini', 'ls_model_type': 'chat', 'ls_temperature': 0.0}, 'parent_ids': ['b2e8195d-6001-4c24-93d0-26eeaed3948d']}\n",
      "{'event': 'on_parser_stream', 'run_id': '92f1b9e0-3da5-4519-ab0f-b9a2bfafd671', 'name': 'StrOutputParser', 'tags': ['seq:step:4'], 'metadata': {}, 'data': {'chunk': '、'}, 'parent_ids': ['b2e8195d-6001-4c24-93d0-26eeaed3948d']}\n",
      "{'event': 'on_chain_stream', 'run_id': 'b2e8195d-6001-4c24-93d0-26eeaed3948d', 'name': 'RunnableSequence', 'tags': [], 'metadata': {}, 'data': {'chunk': '、'}, 'parent_ids': []}\n",
      "{'event': 'on_chat_model_stream', 'data': {'chunk': AIMessageChunk(content='Yahoo', additional_kwargs={}, response_metadata={}, id='run-875b9c46-9468-49bb-9497-c570469632ac')}, 'run_id': '875b9c46-9468-49bb-9497-c570469632ac', 'name': 'ChatOpenAI', 'tags': ['seq:step:3'], 'metadata': {'ls_provider': 'openai', 'ls_model_name': 'gpt-4o-mini', 'ls_model_type': 'chat', 'ls_temperature': 0.0}, 'parent_ids': ['b2e8195d-6001-4c24-93d0-26eeaed3948d']}\n",
      "{'event': 'on_parser_stream', 'run_id': '92f1b9e0-3da5-4519-ab0f-b9a2bfafd671', 'name': 'StrOutputParser', 'tags': ['seq:step:4'], 'metadata': {}, 'data': {'chunk': 'Yahoo'}, 'parent_ids': ['b2e8195d-6001-4c24-93d0-26eeaed3948d']}\n",
      "{'event': 'on_chain_stream', 'run_id': 'b2e8195d-6001-4c24-93d0-26eeaed3948d', 'name': 'RunnableSequence', 'tags': [], 'metadata': {}, 'data': {'chunk': 'Yahoo'}, 'parent_ids': []}\n",
      "{'event': 'on_chat_model_stream', 'data': {'chunk': AIMessageChunk(content='!', additional_kwargs={}, response_metadata={}, id='run-875b9c46-9468-49bb-9497-c570469632ac')}, 'run_id': '875b9c46-9468-49bb-9497-c570469632ac', 'name': 'ChatOpenAI', 'tags': ['seq:step:3'], 'metadata': {'ls_provider': 'openai', 'ls_model_name': 'gpt-4o-mini', 'ls_model_type': 'chat', 'ls_temperature': 0.0}, 'parent_ids': ['b2e8195d-6001-4c24-93d0-26eeaed3948d']}\n",
      "{'event': 'on_parser_stream', 'run_id': '92f1b9e0-3da5-4519-ab0f-b9a2bfafd671', 'name': 'StrOutputParser', 'tags': ['seq:step:4'], 'metadata': {}, 'data': {'chunk': '!'}, 'parent_ids': ['b2e8195d-6001-4c24-93d0-26eeaed3948d']}\n",
      "{'event': 'on_chain_stream', 'run_id': 'b2e8195d-6001-4c24-93d0-26eeaed3948d', 'name': 'RunnableSequence', 'tags': [], 'metadata': {}, 'data': {'chunk': '!'}, 'parent_ids': []}\n",
      "{'event': 'on_chat_model_stream', 'data': {'chunk': AIMessageChunk(content='天', additional_kwargs={}, response_metadata={}, id='run-875b9c46-9468-49bb-9497-c570469632ac')}, 'run_id': '875b9c46-9468-49bb-9497-c570469632ac', 'name': 'ChatOpenAI', 'tags': ['seq:step:3'], 'metadata': {'ls_provider': 'openai', 'ls_model_name': 'gpt-4o-mini', 'ls_model_type': 'chat', 'ls_temperature': 0.0}, 'parent_ids': ['b2e8195d-6001-4c24-93d0-26eeaed3948d']}\n",
      "{'event': 'on_parser_stream', 'run_id': '92f1b9e0-3da5-4519-ab0f-b9a2bfafd671', 'name': 'StrOutputParser', 'tags': ['seq:step:4'], 'metadata': {}, 'data': {'chunk': '天'}, 'parent_ids': ['b2e8195d-6001-4c24-93d0-26eeaed3948d']}\n",
      "{'event': 'on_chain_stream', 'run_id': 'b2e8195d-6001-4c24-93d0-26eeaed3948d', 'name': 'RunnableSequence', 'tags': [], 'metadata': {}, 'data': {'chunk': '天'}, 'parent_ids': []}\n",
      "{'event': 'on_chat_model_stream', 'data': {'chunk': AIMessageChunk(content='気', additional_kwargs={}, response_metadata={}, id='run-875b9c46-9468-49bb-9497-c570469632ac')}, 'run_id': '875b9c46-9468-49bb-9497-c570469632ac', 'name': 'ChatOpenAI', 'tags': ['seq:step:3'], 'metadata': {'ls_provider': 'openai', 'ls_model_name': 'gpt-4o-mini', 'ls_model_type': 'chat', 'ls_temperature': 0.0}, 'parent_ids': ['b2e8195d-6001-4c24-93d0-26eeaed3948d']}\n",
      "{'event': 'on_parser_stream', 'run_id': '92f1b9e0-3da5-4519-ab0f-b9a2bfafd671', 'name': 'StrOutputParser', 'tags': ['seq:step:4'], 'metadata': {}, 'data': {'chunk': '気'}, 'parent_ids': ['b2e8195d-6001-4c24-93d0-26eeaed3948d']}\n",
      "{'event': 'on_chain_stream', 'run_id': 'b2e8195d-6001-4c24-93d0-26eeaed3948d', 'name': 'RunnableSequence', 'tags': [], 'metadata': {}, 'data': {'chunk': '気'}, 'parent_ids': []}\n",
      "{'event': 'on_chat_model_stream', 'data': {'chunk': AIMessageChunk(content='や', additional_kwargs={}, response_metadata={}, id='run-875b9c46-9468-49bb-9497-c570469632ac')}, 'run_id': '875b9c46-9468-49bb-9497-c570469632ac', 'name': 'ChatOpenAI', 'tags': ['seq:step:3'], 'metadata': {'ls_provider': 'openai', 'ls_model_name': 'gpt-4o-mini', 'ls_model_type': 'chat', 'ls_temperature': 0.0}, 'parent_ids': ['b2e8195d-6001-4c24-93d0-26eeaed3948d']}\n",
      "{'event': 'on_parser_stream', 'run_id': '92f1b9e0-3da5-4519-ab0f-b9a2bfafd671', 'name': 'StrOutputParser', 'tags': ['seq:step:4'], 'metadata': {}, 'data': {'chunk': 'や'}, 'parent_ids': ['b2e8195d-6001-4c24-93d0-26eeaed3948d']}\n",
      "{'event': 'on_chain_stream', 'run_id': 'b2e8195d-6001-4c24-93d0-26eeaed3948d', 'name': 'RunnableSequence', 'tags': [], 'metadata': {}, 'data': {'chunk': 'や'}, 'parent_ids': []}\n",
      "{'event': 'on_chat_model_stream', 'data': {'chunk': AIMessageChunk(content='日本', additional_kwargs={}, response_metadata={}, id='run-875b9c46-9468-49bb-9497-c570469632ac')}, 'run_id': '875b9c46-9468-49bb-9497-c570469632ac', 'name': 'ChatOpenAI', 'tags': ['seq:step:3'], 'metadata': {'ls_provider': 'openai', 'ls_model_name': 'gpt-4o-mini', 'ls_model_type': 'chat', 'ls_temperature': 0.0}, 'parent_ids': ['b2e8195d-6001-4c24-93d0-26eeaed3948d']}\n",
      "{'event': 'on_parser_stream', 'run_id': '92f1b9e0-3da5-4519-ab0f-b9a2bfafd671', 'name': 'StrOutputParser', 'tags': ['seq:step:4'], 'metadata': {}, 'data': {'chunk': '日本'}, 'parent_ids': ['b2e8195d-6001-4c24-93d0-26eeaed3948d']}\n",
      "{'event': 'on_chain_stream', 'run_id': 'b2e8195d-6001-4c24-93d0-26eeaed3948d', 'name': 'RunnableSequence', 'tags': [], 'metadata': {}, 'data': {'chunk': '日本'}, 'parent_ids': []}\n",
      "{'event': 'on_chat_model_stream', 'data': {'chunk': AIMessageChunk(content='気', additional_kwargs={}, response_metadata={}, id='run-875b9c46-9468-49bb-9497-c570469632ac')}, 'run_id': '875b9c46-9468-49bb-9497-c570469632ac', 'name': 'ChatOpenAI', 'tags': ['seq:step:3'], 'metadata': {'ls_provider': 'openai', 'ls_model_name': 'gpt-4o-mini', 'ls_model_type': 'chat', 'ls_temperature': 0.0}, 'parent_ids': ['b2e8195d-6001-4c24-93d0-26eeaed3948d']}\n",
      "{'event': 'on_parser_stream', 'run_id': '92f1b9e0-3da5-4519-ab0f-b9a2bfafd671', 'name': 'StrOutputParser', 'tags': ['seq:step:4'], 'metadata': {}, 'data': {'chunk': '気'}, 'parent_ids': ['b2e8195d-6001-4c24-93d0-26eeaed3948d']}\n",
      "{'event': 'on_chain_stream', 'run_id': 'b2e8195d-6001-4c24-93d0-26eeaed3948d', 'name': 'RunnableSequence', 'tags': [], 'metadata': {}, 'data': {'chunk': '気'}, 'parent_ids': []}\n",
      "{'event': 'on_chat_model_stream', 'data': {'chunk': AIMessageChunk(content='象', additional_kwargs={}, response_metadata={}, id='run-875b9c46-9468-49bb-9497-c570469632ac')}, 'run_id': '875b9c46-9468-49bb-9497-c570469632ac', 'name': 'ChatOpenAI', 'tags': ['seq:step:3'], 'metadata': {'ls_provider': 'openai', 'ls_model_name': 'gpt-4o-mini', 'ls_model_type': 'chat', 'ls_temperature': 0.0}, 'parent_ids': ['b2e8195d-6001-4c24-93d0-26eeaed3948d']}\n",
      "{'event': 'on_parser_stream', 'run_id': '92f1b9e0-3da5-4519-ab0f-b9a2bfafd671', 'name': 'StrOutputParser', 'tags': ['seq:step:4'], 'metadata': {}, 'data': {'chunk': '象'}, 'parent_ids': ['b2e8195d-6001-4c24-93d0-26eeaed3948d']}\n",
      "{'event': 'on_chain_stream', 'run_id': 'b2e8195d-6001-4c24-93d0-26eeaed3948d', 'name': 'RunnableSequence', 'tags': [], 'metadata': {}, 'data': {'chunk': '象'}, 'parent_ids': []}\n",
      "{'event': 'on_chat_model_stream', 'data': {'chunk': AIMessageChunk(content='協', additional_kwargs={}, response_metadata={}, id='run-875b9c46-9468-49bb-9497-c570469632ac')}, 'run_id': '875b9c46-9468-49bb-9497-c570469632ac', 'name': 'ChatOpenAI', 'tags': ['seq:step:3'], 'metadata': {'ls_provider': 'openai', 'ls_model_name': 'gpt-4o-mini', 'ls_model_type': 'chat', 'ls_temperature': 0.0}, 'parent_ids': ['b2e8195d-6001-4c24-93d0-26eeaed3948d']}\n",
      "{'event': 'on_parser_stream', 'run_id': '92f1b9e0-3da5-4519-ab0f-b9a2bfafd671', 'name': 'StrOutputParser', 'tags': ['seq:step:4'], 'metadata': {}, 'data': {'chunk': '協'}, 'parent_ids': ['b2e8195d-6001-4c24-93d0-26eeaed3948d']}\n",
      "{'event': 'on_chain_stream', 'run_id': 'b2e8195d-6001-4c24-93d0-26eeaed3948d', 'name': 'RunnableSequence', 'tags': [], 'metadata': {}, 'data': {'chunk': '協'}, 'parent_ids': []}\n",
      "{'event': 'on_chat_model_stream', 'data': {'chunk': AIMessageChunk(content='会', additional_kwargs={}, response_metadata={}, id='run-875b9c46-9468-49bb-9497-c570469632ac')}, 'run_id': '875b9c46-9468-49bb-9497-c570469632ac', 'name': 'ChatOpenAI', 'tags': ['seq:step:3'], 'metadata': {'ls_provider': 'openai', 'ls_model_name': 'gpt-4o-mini', 'ls_model_type': 'chat', 'ls_temperature': 0.0}, 'parent_ids': ['b2e8195d-6001-4c24-93d0-26eeaed3948d']}\n",
      "{'event': 'on_parser_stream', 'run_id': '92f1b9e0-3da5-4519-ab0f-b9a2bfafd671', 'name': 'StrOutputParser', 'tags': ['seq:step:4'], 'metadata': {}, 'data': {'chunk': '会'}, 'parent_ids': ['b2e8195d-6001-4c24-93d0-26eeaed3948d']}\n",
      "{'event': 'on_chain_stream', 'run_id': 'b2e8195d-6001-4c24-93d0-26eeaed3948d', 'name': 'RunnableSequence', 'tags': [], 'metadata': {}, 'data': {'chunk': '会'}, 'parent_ids': []}\n",
      "{'event': 'on_chat_model_stream', 'data': {'chunk': AIMessageChunk(content='の', additional_kwargs={}, response_metadata={}, id='run-875b9c46-9468-49bb-9497-c570469632ac')}, 'run_id': '875b9c46-9468-49bb-9497-c570469632ac', 'name': 'ChatOpenAI', 'tags': ['seq:step:3'], 'metadata': {'ls_provider': 'openai', 'ls_model_name': 'gpt-4o-mini', 'ls_model_type': 'chat', 'ls_temperature': 0.0}, 'parent_ids': ['b2e8195d-6001-4c24-93d0-26eeaed3948d']}\n",
      "{'event': 'on_parser_stream', 'run_id': '92f1b9e0-3da5-4519-ab0f-b9a2bfafd671', 'name': 'StrOutputParser', 'tags': ['seq:step:4'], 'metadata': {}, 'data': {'chunk': 'の'}, 'parent_ids': ['b2e8195d-6001-4c24-93d0-26eeaed3948d']}\n",
      "{'event': 'on_chain_stream', 'run_id': 'b2e8195d-6001-4c24-93d0-26eeaed3948d', 'name': 'RunnableSequence', 'tags': [], 'metadata': {}, 'data': {'chunk': 'の'}, 'parent_ids': []}\n",
      "{'event': 'on_chat_model_stream', 'data': {'chunk': AIMessageChunk(content='サイト', additional_kwargs={}, response_metadata={}, id='run-875b9c46-9468-49bb-9497-c570469632ac')}, 'run_id': '875b9c46-9468-49bb-9497-c570469632ac', 'name': 'ChatOpenAI', 'tags': ['seq:step:3'], 'metadata': {'ls_provider': 'openai', 'ls_model_name': 'gpt-4o-mini', 'ls_model_type': 'chat', 'ls_temperature': 0.0}, 'parent_ids': ['b2e8195d-6001-4c24-93d0-26eeaed3948d']}\n",
      "{'event': 'on_parser_stream', 'run_id': '92f1b9e0-3da5-4519-ab0f-b9a2bfafd671', 'name': 'StrOutputParser', 'tags': ['seq:step:4'], 'metadata': {}, 'data': {'chunk': 'サイト'}, 'parent_ids': ['b2e8195d-6001-4c24-93d0-26eeaed3948d']}\n",
      "{'event': 'on_chain_stream', 'run_id': 'b2e8195d-6001-4c24-93d0-26eeaed3948d', 'name': 'RunnableSequence', 'tags': [], 'metadata': {}, 'data': {'chunk': 'サイト'}, 'parent_ids': []}\n",
      "{'event': 'on_chat_model_stream', 'data': {'chunk': AIMessageChunk(content='で', additional_kwargs={}, response_metadata={}, id='run-875b9c46-9468-49bb-9497-c570469632ac')}, 'run_id': '875b9c46-9468-49bb-9497-c570469632ac', 'name': 'ChatOpenAI', 'tags': ['seq:step:3'], 'metadata': {'ls_provider': 'openai', 'ls_model_name': 'gpt-4o-mini', 'ls_model_type': 'chat', 'ls_temperature': 0.0}, 'parent_ids': ['b2e8195d-6001-4c24-93d0-26eeaed3948d']}\n",
      "{'event': 'on_parser_stream', 'run_id': '92f1b9e0-3da5-4519-ab0f-b9a2bfafd671', 'name': 'StrOutputParser', 'tags': ['seq:step:4'], 'metadata': {}, 'data': {'chunk': 'で'}, 'parent_ids': ['b2e8195d-6001-4c24-93d0-26eeaed3948d']}\n",
      "{'event': 'on_chain_stream', 'run_id': 'b2e8195d-6001-4c24-93d0-26eeaed3948d', 'name': 'RunnableSequence', 'tags': [], 'metadata': {}, 'data': {'chunk': 'で'}, 'parent_ids': []}\n",
      "{'event': 'on_chat_model_stream', 'data': {'chunk': AIMessageChunk(content='確認', additional_kwargs={}, response_metadata={}, id='run-875b9c46-9468-49bb-9497-c570469632ac')}, 'run_id': '875b9c46-9468-49bb-9497-c570469632ac', 'name': 'ChatOpenAI', 'tags': ['seq:step:3'], 'metadata': {'ls_provider': 'openai', 'ls_model_name': 'gpt-4o-mini', 'ls_model_type': 'chat', 'ls_temperature': 0.0}, 'parent_ids': ['b2e8195d-6001-4c24-93d0-26eeaed3948d']}\n",
      "{'event': 'on_parser_stream', 'run_id': '92f1b9e0-3da5-4519-ab0f-b9a2bfafd671', 'name': 'StrOutputParser', 'tags': ['seq:step:4'], 'metadata': {}, 'data': {'chunk': '確認'}, 'parent_ids': ['b2e8195d-6001-4c24-93d0-26eeaed3948d']}\n",
      "{'event': 'on_chain_stream', 'run_id': 'b2e8195d-6001-4c24-93d0-26eeaed3948d', 'name': 'RunnableSequence', 'tags': [], 'metadata': {}, 'data': {'chunk': '確認'}, 'parent_ids': []}\n",
      "{'event': 'on_chat_model_stream', 'data': {'chunk': AIMessageChunk(content='する', additional_kwargs={}, response_metadata={}, id='run-875b9c46-9468-49bb-9497-c570469632ac')}, 'run_id': '875b9c46-9468-49bb-9497-c570469632ac', 'name': 'ChatOpenAI', 'tags': ['seq:step:3'], 'metadata': {'ls_provider': 'openai', 'ls_model_name': 'gpt-4o-mini', 'ls_model_type': 'chat', 'ls_temperature': 0.0}, 'parent_ids': ['b2e8195d-6001-4c24-93d0-26eeaed3948d']}\n",
      "{'event': 'on_parser_stream', 'run_id': '92f1b9e0-3da5-4519-ab0f-b9a2bfafd671', 'name': 'StrOutputParser', 'tags': ['seq:step:4'], 'metadata': {}, 'data': {'chunk': 'する'}, 'parent_ids': ['b2e8195d-6001-4c24-93d0-26eeaed3948d']}\n",
      "{'event': 'on_chain_stream', 'run_id': 'b2e8195d-6001-4c24-93d0-26eeaed3948d', 'name': 'RunnableSequence', 'tags': [], 'metadata': {}, 'data': {'chunk': 'する'}, 'parent_ids': []}\n",
      "{'event': 'on_chat_model_stream', 'data': {'chunk': AIMessageChunk(content='こと', additional_kwargs={}, response_metadata={}, id='run-875b9c46-9468-49bb-9497-c570469632ac')}, 'run_id': '875b9c46-9468-49bb-9497-c570469632ac', 'name': 'ChatOpenAI', 'tags': ['seq:step:3'], 'metadata': {'ls_provider': 'openai', 'ls_model_name': 'gpt-4o-mini', 'ls_model_type': 'chat', 'ls_temperature': 0.0}, 'parent_ids': ['b2e8195d-6001-4c24-93d0-26eeaed3948d']}\n",
      "{'event': 'on_parser_stream', 'run_id': '92f1b9e0-3da5-4519-ab0f-b9a2bfafd671', 'name': 'StrOutputParser', 'tags': ['seq:step:4'], 'metadata': {}, 'data': {'chunk': 'こと'}, 'parent_ids': ['b2e8195d-6001-4c24-93d0-26eeaed3948d']}\n",
      "{'event': 'on_chain_stream', 'run_id': 'b2e8195d-6001-4c24-93d0-26eeaed3948d', 'name': 'RunnableSequence', 'tags': [], 'metadata': {}, 'data': {'chunk': 'こと'}, 'parent_ids': []}\n",
      "{'event': 'on_chat_model_stream', 'data': {'chunk': AIMessageChunk(content='が', additional_kwargs={}, response_metadata={}, id='run-875b9c46-9468-49bb-9497-c570469632ac')}, 'run_id': '875b9c46-9468-49bb-9497-c570469632ac', 'name': 'ChatOpenAI', 'tags': ['seq:step:3'], 'metadata': {'ls_provider': 'openai', 'ls_model_name': 'gpt-4o-mini', 'ls_model_type': 'chat', 'ls_temperature': 0.0}, 'parent_ids': ['b2e8195d-6001-4c24-93d0-26eeaed3948d']}\n",
      "{'event': 'on_parser_stream', 'run_id': '92f1b9e0-3da5-4519-ab0f-b9a2bfafd671', 'name': 'StrOutputParser', 'tags': ['seq:step:4'], 'metadata': {}, 'data': {'chunk': 'が'}, 'parent_ids': ['b2e8195d-6001-4c24-93d0-26eeaed3948d']}\n",
      "{'event': 'on_chain_stream', 'run_id': 'b2e8195d-6001-4c24-93d0-26eeaed3948d', 'name': 'RunnableSequence', 'tags': [], 'metadata': {}, 'data': {'chunk': 'が'}, 'parent_ids': []}\n",
      "{'event': 'on_chat_model_stream', 'data': {'chunk': AIMessageChunk(content='できます', additional_kwargs={}, response_metadata={}, id='run-875b9c46-9468-49bb-9497-c570469632ac')}, 'run_id': '875b9c46-9468-49bb-9497-c570469632ac', 'name': 'ChatOpenAI', 'tags': ['seq:step:3'], 'metadata': {'ls_provider': 'openai', 'ls_model_name': 'gpt-4o-mini', 'ls_model_type': 'chat', 'ls_temperature': 0.0}, 'parent_ids': ['b2e8195d-6001-4c24-93d0-26eeaed3948d']}\n",
      "{'event': 'on_parser_stream', 'run_id': '92f1b9e0-3da5-4519-ab0f-b9a2bfafd671', 'name': 'StrOutputParser', 'tags': ['seq:step:4'], 'metadata': {}, 'data': {'chunk': 'できます'}, 'parent_ids': ['b2e8195d-6001-4c24-93d0-26eeaed3948d']}\n",
      "{'event': 'on_chain_stream', 'run_id': 'b2e8195d-6001-4c24-93d0-26eeaed3948d', 'name': 'RunnableSequence', 'tags': [], 'metadata': {}, 'data': {'chunk': 'できます'}, 'parent_ids': []}\n",
      "{'event': 'on_chat_model_stream', 'data': {'chunk': AIMessageChunk(content='。', additional_kwargs={}, response_metadata={}, id='run-875b9c46-9468-49bb-9497-c570469632ac')}, 'run_id': '875b9c46-9468-49bb-9497-c570469632ac', 'name': 'ChatOpenAI', 'tags': ['seq:step:3'], 'metadata': {'ls_provider': 'openai', 'ls_model_name': 'gpt-4o-mini', 'ls_model_type': 'chat', 'ls_temperature': 0.0}, 'parent_ids': ['b2e8195d-6001-4c24-93d0-26eeaed3948d']}\n",
      "{'event': 'on_parser_stream', 'run_id': '92f1b9e0-3da5-4519-ab0f-b9a2bfafd671', 'name': 'StrOutputParser', 'tags': ['seq:step:4'], 'metadata': {}, 'data': {'chunk': '。'}, 'parent_ids': ['b2e8195d-6001-4c24-93d0-26eeaed3948d']}\n",
      "{'event': 'on_chain_stream', 'run_id': 'b2e8195d-6001-4c24-93d0-26eeaed3948d', 'name': 'RunnableSequence', 'tags': [], 'metadata': {}, 'data': {'chunk': '。'}, 'parent_ids': []}\n",
      "{'event': 'on_chat_model_stream', 'data': {'chunk': AIMessageChunk(content='', additional_kwargs={}, response_metadata={'finish_reason': 'stop', 'model_name': 'gpt-4o-mini-2024-07-18', 'system_fingerprint': 'fp_f59a81427f'}, id='run-875b9c46-9468-49bb-9497-c570469632ac')}, 'run_id': '875b9c46-9468-49bb-9497-c570469632ac', 'name': 'ChatOpenAI', 'tags': ['seq:step:3'], 'metadata': {'ls_provider': 'openai', 'ls_model_name': 'gpt-4o-mini', 'ls_model_type': 'chat', 'ls_temperature': 0.0}, 'parent_ids': ['b2e8195d-6001-4c24-93d0-26eeaed3948d']}\n",
      "{'event': 'on_parser_stream', 'run_id': '92f1b9e0-3da5-4519-ab0f-b9a2bfafd671', 'name': 'StrOutputParser', 'tags': ['seq:step:4'], 'metadata': {}, 'data': {'chunk': ''}, 'parent_ids': ['b2e8195d-6001-4c24-93d0-26eeaed3948d']}\n",
      "{'event': 'on_chain_stream', 'run_id': 'b2e8195d-6001-4c24-93d0-26eeaed3948d', 'name': 'RunnableSequence', 'tags': [], 'metadata': {}, 'data': {'chunk': ''}, 'parent_ids': []}\n",
      "{'event': 'on_chat_model_end', 'data': {'output': AIMessageChunk(content='文脈には具体的な今日の天気の情報は含まれていませんが、東京の天気予報が提供されていることが示されています。詳細な天気情報は、Yahoo!天気や日本気象協会のサイトで確認することができます。', additional_kwargs={}, response_metadata={'finish_reason': 'stop', 'model_name': 'gpt-4o-mini-2024-07-18', 'system_fingerprint': 'fp_f59a81427f'}, id='run-875b9c46-9468-49bb-9497-c570469632ac'), 'input': {'messages': [[HumanMessage(content='以下の文脈だけを踏まえて質問に回答してください。\\n\\n文脈: \"\"\"\\n[Document(metadata={\\'title\\': \\'東京（東京）の天気 - Yahoo!天気・災害\\', \\'source\\': \\'https://weather.yahoo.co.jp/weather/jp/13/4410.html\\', \\'score\\': 0.99411184, \\'images\\': []}, page_content=\\'東京（東京）の天気予報。今日・明日の天気と風と波、明日までの6時間ごとの降水確率と最高・最低気温を見られます。 ... 念のためお肌の乾燥には気を付けて\\'), Document(metadata={\\'title\\': \\'東京都の天気 - 日本気象協会 tenki.jp\\', \\'source\\': \\'https://tenki.jp/forecast/3/16/\\', \\'score\\': 0.9872773, \\'images\\': []}, page_content=\\'東京都の天気予報です。市区町村別の今日の天気、気温、降水確率が地図上に表示されているので、ひと目でわかります。タブ切り替えで10日間\\'), Document(metadata={\\'title\\': \\'東京都の天気 - Yahoo!天気・災害\\', \\'source\\': \\'https://weather.yahoo.co.jp/weather/jp/13/\\', \\'score\\': 0.9837225, \\'images\\': []}, page_content=\\'東京都の天気予報。今日の天気、明日の天気、気温、降水確率を地図上に表示。 ... 関東地方と伊豆諸島の海上では、26日から27日にかけて、うねりを伴い波が高い見込みです。船舶は高波に注意してください。\\')]\\n\"\"\"\\n\\n質問: 東京の今日の天気は？\\n', additional_kwargs={}, response_metadata={})]]}}, 'run_id': '875b9c46-9468-49bb-9497-c570469632ac', 'name': 'ChatOpenAI', 'tags': ['seq:step:3'], 'metadata': {'ls_provider': 'openai', 'ls_model_name': 'gpt-4o-mini', 'ls_model_type': 'chat', 'ls_temperature': 0.0}, 'parent_ids': ['b2e8195d-6001-4c24-93d0-26eeaed3948d']}\n",
      "{'event': 'on_parser_end', 'data': {'output': '文脈には具体的な今日の天気の情報は含まれていませんが、東京の天気予報が提供されていることが示されています。詳細な天気情報は、Yahoo!天気や日本気象協会のサイトで確認することができます。', 'input': AIMessageChunk(content='文脈には具体的な今日の天気の情報は含まれていませんが、東京の天気予報が提供されていることが示されています。詳細な天気情報は、Yahoo!天気や日本気象協会のサイトで確認することができます。', additional_kwargs={}, response_metadata={'finish_reason': 'stop', 'model_name': 'gpt-4o-mini-2024-07-18', 'system_fingerprint': 'fp_f59a81427f'}, id='run-875b9c46-9468-49bb-9497-c570469632ac')}, 'run_id': '92f1b9e0-3da5-4519-ab0f-b9a2bfafd671', 'name': 'StrOutputParser', 'tags': ['seq:step:4'], 'metadata': {}, 'parent_ids': ['b2e8195d-6001-4c24-93d0-26eeaed3948d']}\n",
      "{'event': 'on_chain_end', 'data': {'output': '文脈には具体的な今日の天気の情報は含まれていませんが、東京の天気予報が提供されていることが示されています。詳細な天気情報は、Yahoo!天気や日本気象協会のサイトで確認することができます。'}, 'run_id': 'b2e8195d-6001-4c24-93d0-26eeaed3948d', 'name': 'RunnableSequence', 'tags': [], 'metadata': {}, 'parent_ids': []}\n"
     ]
    }
   ],
   "source": [
    "chain = (\n",
    "    {\n",
    "        \"context\": retriever,\n",
    "        \"question\": RunnablePassthrough()\n",
    "    }\n",
    "    | prompt\n",
    "    | model\n",
    "    | StrOutputParser()\n",
    ")  # fmt: skip\n",
    "\n",
    "async for event in chain.astream_events(\"東京の今日の天気は？\", version=\"v2\"):\n",
    "    print(event, flush=True)"
   ]
  },
  {
   "cell_type": "code",
   "execution_count": 23,
   "metadata": {},
   "outputs": [
    {
     "name": "stdout",
     "output_type": "stream",
     "text": [
      "=== 検索結果 ===\n",
      "page_content='東京（東京）の天気予報。今日・明日の天気と風と波、明日までの6時間ごとの降水確率と最高・最低気温を見られます。 ... 念のためお肌の乾燥には気を付けて' metadata={'title': '東京（東京）の天気 - Yahoo!天気・災害', 'source': 'https://weather.yahoo.co.jp/weather/jp/13/4410.html', 'score': 0.99411184, 'images': []}\n",
      "page_content='東京都の天気予報。今日の天気、明日の天気、気温、降水確率を地図上に表示。 ... 26日は、前線や湿った空気の影響を受ける見込みです。このため、曇りで、朝晩は雨の降る所があるでしょう。' metadata={'title': '東京都の天気 - Yahoo!天気・災害', 'source': 'https://weather.yahoo.co.jp/weather/jp/13/', 'score': 0.98926485, 'images': []}\n",
      "page_content='東京都の天気予報です。市区町村別の今日の天気、気温、降水確率が地図上に表示されているので、ひと目でわかります。タブ切り替えで10日間' metadata={'title': '東京都の天気 - 日本気象協会 tenki.jp', 'source': 'https://tenki.jp/forecast/3/16/', 'score': 0.9872773, 'images': []}\n",
      "=== 最終出力 ===\n",
      "文脈には具体的な今日の天気の詳細は記載されていませんが、東京都の天気予報によると、26日は曇りで、朝晩は雨の降る所がある見込みです。また、乾燥に注意が必要とのことです。詳しい情報は、提供されたリンクを参照してください。"
     ]
    }
   ],
   "source": [
    "async for event in chain.astream_events(\"東京の今日の天気は？\", version=\"v2\"):\n",
    "    event_kind = event[\"event\"]\n",
    "\n",
    "    if event_kind == \"on_retriever_end\":\n",
    "        print(\"=== 検索結果 ===\")\n",
    "        documents = event[\"data\"][\"output\"]\n",
    "        for document in documents:\n",
    "            print(document)\n",
    "\n",
    "    elif event_kind == \"on_parser_start\":\n",
    "        print(\"=== 最終出力 ===\")\n",
    "\n",
    "    elif event_kind == \"on_parser_stream\":\n",
    "        chunk = event[\"data\"][\"chunk\"]\n",
    "        print(chunk, end=\"\", flush=True)\n"
   ]
  },
  {
   "cell_type": "markdown",
   "metadata": {},
   "source": [
    "### （コラム）Chat history と Memory\n"
   ]
  },
  {
   "cell_type": "code",
   "execution_count": 24,
   "metadata": {},
   "outputs": [],
   "source": [
    "from langchain_core.output_parsers import StrOutputParser\n",
    "from langchain_core.prompts import ChatPromptTemplate, MessagesPlaceholder\n",
    "from langchain_openai import ChatOpenAI\n",
    "\n",
    "model = ChatOpenAI(model=\"gpt-4o-mini\", temperature=0)\n",
    "\n",
    "prompt = ChatPromptTemplate.from_messages(\n",
    "    [\n",
    "        (\"system\", \"You are a helpful assistant.\"),\n",
    "        MessagesPlaceholder(\"chat_history\", optional=True),\n",
    "        (\"human\", \"{input}\"),\n",
    "    ]\n",
    ")\n",
    "\n",
    "chain = prompt | model | StrOutputParser()"
   ]
  },
  {
   "cell_type": "code",
   "execution_count": 25,
   "metadata": {},
   "outputs": [],
   "source": [
    "from langchain_community.chat_message_histories import SQLChatMessageHistory\n",
    "\n",
    "\n",
    "def respond(session_id: str, human_message: str) -> str:\n",
    "    chat_message_history = SQLChatMessageHistory(session_id=session_id, connection=\"sqlite:///sqlite.db\")\n",
    "\n",
    "    ai_message = chain.invoke(\n",
    "        {\n",
    "            \"chat_history\": chat_message_history.get_messages(),\n",
    "            \"input\": human_message,\n",
    "        }\n",
    "    )\n",
    "\n",
    "    chat_message_history.add_user_message(human_message)\n",
    "    chat_message_history.add_ai_message(ai_message)\n",
    "\n",
    "    return ai_message"
   ]
  },
  {
   "cell_type": "code",
   "execution_count": 26,
   "metadata": {},
   "outputs": [
    {
     "name": "stdout",
     "output_type": "stream",
     "text": [
      "こんにちは、ジョンさん！お会いできて嬉しいです。今日はどんなことをお話ししましょうか？\n",
      "はい、あなたの名前はジョンさんです。何か特別なことについてお話ししたいことがありますか？\n"
     ]
    }
   ],
   "source": [
    "from uuid import uuid4\n",
    "\n",
    "session_id = uuid4().hex\n",
    "\n",
    "output1 = respond(\n",
    "    session_id=session_id,\n",
    "    human_message=\"こんにちは！私はジョンと言います！\",\n",
    ")\n",
    "print(output1)\n",
    "\n",
    "output2 = respond(\n",
    "    session_id=session_id,\n",
    "    human_message=\"私の名前が分かりますか？\",\n",
    ")\n",
    "print(output2)"
   ]
  }
 ],
 "metadata": {
  "kernelspec": {
   "display_name": ".venv",
   "language": "python",
   "name": "python3"
  },
  "language_info": {
   "codemirror_mode": {
    "name": "ipython",
    "version": 3
   },
   "file_extension": ".py",
   "mimetype": "text/x-python",
   "name": "python",
   "nbconvert_exporter": "python",
   "pygments_lexer": "ipython3",
   "version": "3.10.12"
  }
 },
 "nbformat": 4,
 "nbformat_minor": 2
}
