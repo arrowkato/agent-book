{
 "cells": [
  {
   "cell_type": "markdown",
   "metadata": {},
   "source": [
    "# 要件定義書生成AIエージェントの開発"
   ]
  },
  {
   "cell_type": "code",
   "execution_count": null,
   "metadata": {},
   "outputs": [],
   "source": [
    "# !git clone https://github.com/GenerativeAgents/agent-book.git"
   ]
  },
  {
   "cell_type": "code",
   "execution_count": null,
   "metadata": {},
   "outputs": [],
   "source": [
    "# すでに. /chapter10 にいるはず\n",
    "# %cd agent-book\n",
    "# %cd chapter10"
   ]
  },
  {
   "cell_type": "code",
   "execution_count": 3,
   "metadata": {},
   "outputs": [
    {
     "data": {
      "text/plain": [
       "'/workspaces/agent-book/chapter10'"
      ]
     },
     "execution_count": 3,
     "metadata": {},
     "output_type": "execute_result"
    }
   ],
   "source": [
    "%pwd"
   ]
  },
  {
   "cell_type": "code",
   "execution_count": null,
   "metadata": {},
   "outputs": [],
   "source": [
    "# uvを使っている場合は、インストール済みです。\n",
    "# !pip install langchain-core==0.3.0 langchain-openai==0.2.0 langgraph==0.2.22 python-dotenv==1.0.1"
   ]
  },
  {
   "cell_type": "code",
   "execution_count": null,
   "metadata": {},
   "outputs": [],
   "source": [
    "# import os\n",
    "# from google.colab import userdata\n",
    "\n",
    "# os.environ[\"OPENAI_API_KEY\"] = userdata.get(\"OPENAI_API_KEY\")\n",
    "# os.environ[\"LANGCHAIN_TRACING_V2\"] = \"true\"\n",
    "# os.environ[\"LANGCHAIN_ENDPOINT\"] = \"https://api.smith.langchain.com\"\n",
    "# os.environ[\"LANGCHAIN_API_KEY\"] = userdata.get(\"LANGCHAIN_API_KEY\")\n",
    "# os.environ[\"LANGCHAIN_PROJECT\"] = \"agent-book\""
   ]
  },
  {
   "cell_type": "code",
   "execution_count": null,
   "metadata": {},
   "outputs": [],
   "source": []
  },
  {
   "cell_type": "code",
   "execution_count": 4,
   "metadata": {},
   "outputs": [
    {
     "name": "stdout",
     "output_type": "stream",
     "text": [
      "# 要件文書\n",
      "\n",
      "## 1. プロジェクト概要\n",
      "本プロジェクトは、スマートフォン向けの健康管理アプリを開発することを目的としています。このアプリは、ユーザーが日常的に健康状態を把握し、改善するためのツールを提供します。運動、食事、睡眠、ストレス管理など、総合的な健康管理をサポートする機能を備え、ユーザーの健康意識を高めることを目指します。\n",
      "\n",
      "## 2. 主要機能\n",
      "1. **運動記録機能**\n",
      "   - 心拍数、消費カロリー、運動の種類（ランニング、筋トレ、ヨガなど）を詳細にトラッキング。\n",
      "   - 目標設定と進捗の可視化機能。\n",
      "\n",
      "2. **食事管理機能**\n",
      "   - カロリー計算や栄養素のバランスを把握できる機能。\n",
      "   - バーコードスキャンや写真を撮ることで簡単に食事を記録できる機能。\n",
      "\n",
      "3. **睡眠トラッキング機能**\n",
      "   - 睡眠時間や深い睡眠、浅い睡眠のサイクルを記録。\n",
      "   - 睡眠改善のための提案機能。\n",
      "\n",
      "4. **ストレス管理ツール**\n",
      "   - 瞑想や深呼吸のガイドを提供。\n",
      "\n",
      "5. **健康情報提供機能**\n",
      "   - 短時間で読める健康に関する記事やヒントを提供。\n",
      "\n",
      "6. **コミュニティサポート**\n",
      "   - ユーザー同士が情報交換や励まし合いができる機能。\n",
      "\n",
      "7. **健康指標の追跡**\n",
      "   - 体重、血圧、運動量、食事内容を記録し、グラフやレポートで進捗を確認できる機能。\n",
      "\n",
      "## 3. 非機能要件\n",
      "- **ユーザビリティ**: シンプルで直感的なインターフェースを提供し、技術に詳しくないユーザーでも使いやすい設計。\n",
      "- **パフォーマンス**: アプリの起動時間は3秒以内、操作のレスポンスは1秒以内を目指す。\n",
      "- **セキュリティ**: ユーザーの個人情報や健康データを適切に保護するためのセキュリティ対策を実施。\n",
      "- **互換性**: iOSおよびAndroidの主要バージョンに対応。\n",
      "\n",
      "## 4. 制約条件\n",
      "- 開発予算は500万円以内。\n",
      "- 開発期間は6ヶ月以内。\n",
      "- ユーザーからのフィードバックを基に機能追加や改善を行うため、アジャイル開発手法を採用。\n",
      "\n",
      "## 5. ターゲットユーザー\n",
      "- 健康意識が高いが忙しい生活を送る30代から50代の男女。\n",
      "- フィットネスアプリを使用しているが、より包括的な健康管理を求めるユーザー。\n",
      "- 健康診断で注意を受け、健康管理に興味を持ち始めたユーザー。\n",
      "\n",
      "## 6. 優先順位\n",
      "1. 運動記録機能\n",
      "2. 食事管理機能\n",
      "3. 睡眠トラッキング機能\n",
      "4. ストレス管理ツール\n",
      "5. 健康情報提供機能\n",
      "6. コミュニティサポート\n",
      "7. 健康指標の追跡\n",
      "\n",
      "## 7. リスクと軽減策\n",
      "- **リスク**: ユーザーのニーズに合わない機能の実装。\n",
      "  - **軽減策**: ユーザーインタビューやプロトタイプテストを通じて、機能の妥当性を確認する。\n",
      "\n",
      "- **リスク**: 開発スケジュールの遅延。\n",
      "  - **軽減策**: アジャイル開発手法を採用し、定期的な進捗確認を行う。\n",
      "\n",
      "- **リスク**: セキュリティの脆弱性。\n",
      "  - **軽減策**: 開発段階からセキュリティテストを実施し、外部の専門家による監査を行う。\n",
      "\n",
      "以上が、スマートフォン向け健康管理アプリの要件文書です。このアプリがユーザーの健康管理に役立つことを期待しています。\n"
     ]
    }
   ],
   "source": [
    "!python -m documentation_agent.main --task \"スマートフォン向けの健康管理アプリを開発したい\" --k 3"
   ]
  }
 ],
 "metadata": {
  "kernelspec": {
   "display_name": ".venv",
   "language": "python",
   "name": "python3"
  },
  "language_info": {
   "codemirror_mode": {
    "name": "ipython",
    "version": 3
   },
   "file_extension": ".py",
   "mimetype": "text/x-python",
   "name": "python",
   "nbconvert_exporter": "python",
   "pygments_lexer": "ipython3",
   "version": "3.10.12"
  }
 },
 "nbformat": 4,
 "nbformat_minor": 2
}
