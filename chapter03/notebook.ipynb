{
 "cells": [
  {
   "cell_type": "markdown",
   "metadata": {},
   "source": [
    "# 3. プロンプトエンジニアリング\n"
   ]
  },
  {
   "cell_type": "code",
   "execution_count": null,
   "metadata": {},
   "outputs": [],
   "source": [
    "# google colab 用なのでコメントアウト\n",
    "# import os\n",
    "# from google.colab import userdata\n",
    "\n",
    "# os.environ[\"OPENAI_API_KEY\"] = userdata.get(\"OPENAI_API_KEY\")"
   ]
  },
  {
   "cell_type": "code",
   "execution_count": 1,
   "metadata": {},
   "outputs": [
    {
     "data": {
      "text/plain": [
       "True"
      ]
     },
     "execution_count": 1,
     "metadata": {},
     "output_type": "execute_result"
    }
   ],
   "source": [
    "from dotenv import load_dotenv\n",
    "\n",
    "# 事前に .env ファイルを作って、OPENAI_API_KEY に API キーを設定してください\n",
    "load_dotenv()"
   ]
  },
  {
   "cell_type": "code",
   "execution_count": null,
   "metadata": {},
   "outputs": [],
   "source": [
    "# !pip install openai==1.40.6"
   ]
  },
  {
   "cell_type": "markdown",
   "metadata": {},
   "source": [
    "## 3.2. プロンプトエンジニアリングとは\n"
   ]
  },
  {
   "cell_type": "code",
   "execution_count": 2,
   "metadata": {},
   "outputs": [
    {
     "name": "stdout",
     "output_type": "stream",
     "text": [
      "プロンプトエンジニアリング（Prompt Engineering）とは、特に人工知能（AI）や機械学習モデル（特に大規模言語モデル）に対して適切な入力（プロンプト）を設計・調整するプロセスを指します。この手法は、AIが出力する応答の質を向上させたり、特定のタスクを効果的に実行させるために重要です。\n",
      "\n",
      "プロンプトエンジニアリングの主な目的には以下が含まれます：\n",
      "\n",
      "1. **明確さと具体性**：プロンプトが明確で具体的であるほど、AIが期待される応答を生成しやすくなります。\n",
      "\n",
      "2. **コンテキストの提供**：モデルが適切な応答を生成するための背景情報を提供することで、より関連性のある応答が得られます。\n",
      "\n",
      "3. **形式やスタイルの指定**：出力形式（例えば、箇条書き、文章、対話形式など）やスタイル（正式、カジュアルなど）を指定することで、期待される形式の応答を得ることができます。\n",
      "\n",
      "4. **反復的な改善**：プロンプトを試行錯誤しながら改善することで、より望ましい結果を得ることができます。\n",
      "\n",
      "プロンプトエンジニアリングは、特に生成業務（コンテンツ作成や質問応答、対話型AIなど）において重要なスキルとなっています。適切なプロンプトを設計することで、AIの性能を最大限に引き出し、さまざまなアプリケーションでの効率性や精度を向上させることが可能になります。\n"
     ]
    }
   ],
   "source": [
    "from openai import OpenAI\n",
    "\n",
    "client = OpenAI()\n",
    "\n",
    "response = client.chat.completions.create(\n",
    "    model=\"gpt-4o-mini\",\n",
    "    messages=[\n",
    "        {\"role\": \"user\", \"content\": \"プロンプトエンジニアリングとは\"},\n",
    "    ],\n",
    ")\n",
    "print(response.choices[0].message.content)"
   ]
  },
  {
   "cell_type": "code",
   "execution_count": 3,
   "metadata": {},
   "outputs": [
    {
     "name": "stdout",
     "output_type": "stream",
     "text": [
      "プロンプトエンジニアリングとは、AIモデルに最適な結果を得るために入力する質問や指示（プロンプト）を設計・調整する技術やプロセスです。特に、生成AIを活用する際に重要なスキルです。\n"
     ]
    }
   ],
   "source": [
    "response = client.chat.completions.create(\n",
    "    model=\"gpt-4o-mini\",\n",
    "    messages=[\n",
    "        {\"role\": \"system\", \"content\": \"質問に100文字程度で答えてください。\"},\n",
    "        {\"role\": \"user\", \"content\": \"プロンプトエンジニアリングとは\"},\n",
    "    ],\n",
    ")\n",
    "print(response.choices[0].message.content)"
   ]
  },
  {
   "cell_type": "code",
   "execution_count": 4,
   "metadata": {},
   "outputs": [
    {
     "data": {
      "text/plain": [
       "90"
      ]
     },
     "execution_count": 4,
     "metadata": {},
     "output_type": "execute_result"
    }
   ],
   "source": [
    "len(response.choices[0].message.content)"
   ]
  },
  {
   "cell_type": "markdown",
   "metadata": {},
   "source": [
    "## 3.3. プロンプトの構成要素の基本\n"
   ]
  },
  {
   "cell_type": "markdown",
   "metadata": {},
   "source": [
    "### プロンプトのテンプレート化\n"
   ]
  },
  {
   "cell_type": "code",
   "execution_count": 5,
   "metadata": {},
   "outputs": [
    {
     "name": "stdout",
     "output_type": "stream",
     "text": [
      "もちろん！以下は基本的なカレーのレシピです。具材やスパイスのバリエーションはお好みに応じて調整してください。\n",
      "\n",
      "### カレーのレシピ\n",
      "\n",
      "#### 材料（4人分）\n",
      "- 鶏肉（もも肉または胸肉）: 500g（一口大にカット）\n",
      "- 玉ねぎ: 2個（みじん切り）\n",
      "- にんじん: 1本（乱切り）\n",
      "- じゃがいも: 2個（乱切り）\n",
      "- カレールー: 100g（お好みのタイプ）\n",
      "- サラダ油: 大さじ2\n",
      "- 水: 800ml\n",
      "- 塩: 適量\n",
      "- こしょう: 適量\n",
      "- お好みで追加する具材（例: ピーマン、ズッキーニ、きのこなど）\n",
      "\n",
      "#### 作り方\n",
      "1. **下準備をする**  \n",
      "   玉ねぎをみじん切りに、にんじんとじゃがいもを乱切りにします。鶏肉は一口大にカットします。\n",
      "\n",
      "2. **玉ねぎを炒める**  \n",
      "   鍋にサラダ油を熱し、玉ねぎを中火で炒めます。透明感が出るまで約5分ほど炒めます。\n",
      "\n",
      "3. **鶏肉を加える**  \n",
      "   炒めた玉ねぎに鶏肉を加え、色が変わるまで炒めます。鶏肉が白くなったら、にんじんとじゃがいもも加えます。\n",
      "\n",
      "4. **水を加える**  \n",
      "   材料が全てなじんだら、水を加えます。強火で煮立たせ、アクが出てきたら取り除きます。\n",
      "\n",
      "5. **煮込む**  \n",
      "   中火にし、ふたをして約15分間煮ます。具材が柔らかくなるまで煮込むのがポイントです。\n",
      "\n",
      "6. **カレールーを加える**  \n",
      "   野菜が柔らかくなったら、カレールーを加えてよく溶かします。ルーが完全に溶けたら、弱火にしてさらに10分ほど煮込みます。\n",
      "\n",
      "7. **味を調える**  \n",
      "   塩とこしょうで味を整えます。必要に応じて、好きなスパイスや調味料を加えてオリジナルの味を楽しんでください。\n",
      "\n",
      "8. **盛り付け**  \n",
      "   ご飯と一緒に皿に盛りつけて、完成です！お好みで福神漬けやらっきょうを添えても良いでしょう。\n",
      "\n",
      "### おすすめのトッピング\n",
      "- 磯辺揚げ\n",
      "- チーズ\n",
      "- 生卵（温泉卵など）\n",
      "\n",
      "### アレンジアイデア\n",
      "- 野菜を追加: ホウレンソウやカボチャを加えると栄養価がアップします。\n",
      "- スパイシーに: ガラムマサラやチリパウダーを加えて、辛さを調整しても良いです。\n",
      "\n",
      "ぜひお試しください！\n"
     ]
    }
   ],
   "source": [
    "prompt = '''\\\n",
    "以下の料理のレシピを考えてください。\n",
    "\n",
    "料理名: \"\"\"\n",
    "{dish}\n",
    "\"\"\"\n",
    "'''\n",
    "\n",
    "\n",
    "def generate_recipe(dish: str) -> str:\n",
    "    response = client.chat.completions.create(\n",
    "        model=\"gpt-4o-mini\",\n",
    "        messages=[\n",
    "            {\"role\": \"user\", \"content\": prompt.format(dish=dish)},\n",
    "        ],\n",
    "    )\n",
    "    return response.choices[0].message.content\n",
    "\n",
    "\n",
    "recipe = generate_recipe(\"カレー\")\n",
    "print(recipe)"
   ]
  },
  {
   "cell_type": "code",
   "execution_count": 6,
   "metadata": {},
   "outputs": [
    {
     "name": "stdout",
     "output_type": "stream",
     "text": [
      "カレーのレシピをご紹介します。基本的な材料と作り方を参考に、お好みの具材やスパイスを加えてアレンジしてください。\n",
      "\n",
      "### 材料（4人分）\n",
      "\n",
      "- 鶏肉（もも肉または胸肉）　400g\n",
      "- 玉ねぎ　2個\n",
      "- にんじん　1本\n",
      "- じゃがいも　2個\n",
      "- カレールウ　1箱（約100g）\n",
      "- サラダ油　大さじ2\n",
      "- 水　700ml\n",
      "- 塩　適量\n",
      "- こしょう　適量\n",
      "- お好みで：ガーリック、しょうが、ピーマン、パプリカなどの野菜\n",
      "\n",
      "### 作り方\n",
      "\n",
      "1. **食材の下準備**：\n",
      "   - 鶏肉は一口大に切り、塩とこしょうを振っておきます。\n",
      "   - 玉ねぎは薄切り、にんじんとじゃがいもは一口大に切ります。\n",
      "\n",
      "2. **炒める**：\n",
      "   - 鍋にサラダ油を入れて中火に熱し、玉ねぎを入れて透明になるまで炒めます。\n",
      "   - にんじんとじゃがいもを加え、全体がなじむまでさらに炒めます。\n",
      "\n",
      "3. **鶏肉を加える**：\n",
      "   - 鶏肉を鍋に加え、表面が白くなるまで炒めます。\n",
      "\n",
      "4. **水を加える**：\n",
      "   - 鍋に水を加え、強火で沸騰させます。その後、アクを取り除いて中火にし、約15分煮込みます。\n",
      "\n",
      "5. **カレールウを溶かす**：\n",
      "   - 鍋の火を弱め、カレールウを加えます。泡立て器やしゃもじを使ってしっかりと溶かします。さらに10分ほど煮込み、全体がなじんだら火を止めます。\n",
      "\n",
      "6. **盛り付け**：\n",
      "   - お皿にご飯を盛り、その上にカレーをかけて完成です。お好みで福神漬けやらっきょうを添えても良いでしょう。\n",
      "\n",
      "### アレンジの提案\n",
      "- **スパイス**：クミンやコリアンダーを加えて、香りを引き立てることもできます。\n",
      "- **具材の変更**：野菜や大豆、豆腐など、好みの具材に変更しても美味しく作れます。\n",
      "- **辛さ調節**：辛口のカレールウを使ったり、チリパウダーを加えたりして、自分好みの辛さに調整できます。\n",
      "\n",
      "是非、お試しください！\n"
     ]
    }
   ],
   "source": [
    "prompt = \"\"\"\\\n",
    "ユーザーが入力した料理のレシピを考えてください。\n",
    "\n",
    "料理名: '''\n",
    "{dish}\n",
    "'''\n",
    "\"\"\"\n",
    "\n",
    "\n",
    "def generate_recipe(dish: str) -> str:\n",
    "    response = client.chat.completions.create(\n",
    "        model=\"gpt-4o-mini\",\n",
    "        messages=[\n",
    "            {\n",
    "                \"role\": \"system\",\n",
    "                \"content\": \"ユーザーが入力した料理のレシピを考えてください。\",\n",
    "            },\n",
    "            {\"role\": \"user\", \"content\": f\"{dish}\"},\n",
    "        ],\n",
    "    )\n",
    "    return response.choices[0].message.content\n",
    "\n",
    "\n",
    "recipe = generate_recipe(\"カレー\")\n",
    "print(recipe)"
   ]
  },
  {
   "cell_type": "markdown",
   "metadata": {},
   "source": [
    "### 出力形式を指定する\n"
   ]
  },
  {
   "cell_type": "code",
   "execution_count": 7,
   "metadata": {},
   "outputs": [
    {
     "name": "stdout",
     "output_type": "stream",
     "text": [
      "{\n",
      "  \"材料\": [\"鶏肉 500g\", \"玉ねぎ 2個\", \"にんじん 1本\", \"じゃがいも 2個\", \"カレールー 100g\", \"水 800ml\", \"サラダ油 大さじ2\", \"塩 少々\"],\n",
      "  \"手順\": [\"1. 玉ねぎをスライスし、鶏肉を一口大に切る。\", \"2. 鍋にサラダ油を熱し、玉ねぎを炒めて透明になるまで炒める。\", \"3. 鶏肉を加え、表面が白くなるまで炒める。\", \"4. 皮をむいたにんじんとじゃがいもを一口大に切り、鍋に加える。\", \"5. 水を加え、煮立ったらアクを取り除く。\", \"6. 中火で15分ほど煮込み、野菜が柔らかくなったらカレールーを加える。\", \"7. よく混ぜて5分ほど煮込み、塩で味を調えたら完成。\"]\n",
      "}\n"
     ]
    }
   ],
   "source": [
    "system_prompt = \"\"\"\\\n",
    "ユーザーが入力した料理のレシピを考えてください。\n",
    "\n",
    "出力は以下のJSON形式にしてください。\n",
    "\n",
    "```\n",
    "{\n",
    "  \"材料\": [\"材料1\", \"材料2\"],\n",
    "  \"手順\": [\"手順1\", \"手順2\"]\n",
    "}\n",
    "```\n",
    "\"\"\"\n",
    "\n",
    "response = client.chat.completions.create(\n",
    "    model=\"gpt-4o-mini\",\n",
    "    messages=[\n",
    "        {\"role\": \"system\", \"content\": system_prompt},\n",
    "        {\"role\": \"user\", \"content\": \"カレー\"},\n",
    "    ],\n",
    ")\n",
    "print(response.choices[0].message.content)"
   ]
  },
  {
   "cell_type": "markdown",
   "metadata": {},
   "source": [
    "## 3.4. プロンプトエンジニアリングの定番の手法\n"
   ]
  },
  {
   "cell_type": "markdown",
   "metadata": {},
   "source": [
    "### Zero-shot プロンプティング\n"
   ]
  },
  {
   "cell_type": "code",
   "execution_count": 8,
   "metadata": {},
   "outputs": [
    {
     "name": "stdout",
     "output_type": "stream",
     "text": [
      "ポジティブ\n"
     ]
    }
   ],
   "source": [
    "response = client.chat.completions.create(\n",
    "    model=\"gpt-4o-mini\",\n",
    "    messages=[\n",
    "        {\n",
    "            \"role\": \"system\",\n",
    "            \"content\": \"入力をポジティブ・ネガティブ・中立のどれかに分類してください。\",\n",
    "        },\n",
    "        {\n",
    "            \"role\": \"user\",\n",
    "            \"content\": \"ChatGPTはとても便利だ\",\n",
    "        },\n",
    "    ],\n",
    ")\n",
    "print(response.choices[0].message.content)"
   ]
  },
  {
   "cell_type": "markdown",
   "metadata": {},
   "source": [
    "### Few-shot プロンプティング\n"
   ]
  },
  {
   "cell_type": "code",
   "execution_count": 12,
   "metadata": {},
   "outputs": [
    {
     "name": "stdout",
     "output_type": "stream",
     "text": [
      "はい、ChatGPTは多くの情報を提供したり、質問に答えたりするのに役立つツールです。さまざまなトピックについての知識を持っており、ユーザーのニーズに応じてサポートを提供します。何か特定のことについてお手伝いできることがあれば教えてください！\n"
     ]
    }
   ],
   "source": [
    "response = client.chat.completions.create(\n",
    "    model=\"gpt-4o-mini\",\n",
    "    messages=[\n",
    "        {\"role\": \"system\", \"content\": \"入力がAIに関係するか回答してください。\"},\n",
    "        {\"role\": \"user\", \"content\": \"ChatGPTはとても便利だ\"},\n",
    "    ],\n",
    "    temperature=0.0,\n",
    ")\n",
    "print(response.choices[0].message.content)"
   ]
  },
  {
   "cell_type": "code",
   "execution_count": 13,
   "metadata": {},
   "outputs": [
    {
     "name": "stdout",
     "output_type": "stream",
     "text": [
      "true\n"
     ]
    }
   ],
   "source": [
    "response = client.chat.completions.create(\n",
    "    model=\"gpt-4o-mini\",\n",
    "    messages=[\n",
    "        {\"role\": \"system\", \"content\": \"入力がAIに関係するか回答してください。\"},\n",
    "        {\"role\": \"user\", \"content\": \"AIの進化はすごい\"},\n",
    "        {\"role\": \"assistant\", \"content\": \"true\"},\n",
    "        {\"role\": \"user\", \"content\": \"今日は良い天気だ\"},\n",
    "        {\"role\": \"assistant\", \"content\": \"false\"},\n",
    "        {\"role\": \"user\", \"content\": \"ChatGPTはとても便利だ\"},\n",
    "    ],\n",
    ")\n",
    "print(response.choices[0].message.content)"
   ]
  },
  {
   "cell_type": "markdown",
   "metadata": {},
   "source": [
    "### （コラム）Few-shot プロンプティングのその他の形式\n"
   ]
  },
  {
   "cell_type": "code",
   "execution_count": 14,
   "metadata": {},
   "outputs": [
    {
     "name": "stdout",
     "output_type": "stream",
     "text": [
      "true\n"
     ]
    }
   ],
   "source": [
    "prompt = \"\"\"\\\n",
    "入力がAIに関係するか回答してください。\n",
    "\n",
    "Q: AIの進化はすごい\n",
    "A: true\n",
    "Q: 今日は良い天気だ\n",
    "A: false\n",
    "Q: ChatGPTはとても便利だ\n",
    "A:\n",
    "\"\"\"\n",
    "\n",
    "response = client.completions.create(\n",
    "    model=\"gpt-3.5-turbo-instruct\",\n",
    "    prompt=prompt,\n",
    ")\n",
    "print(response.choices[0].text)"
   ]
  },
  {
   "cell_type": "code",
   "execution_count": 15,
   "metadata": {},
   "outputs": [
    {
     "name": "stdout",
     "output_type": "stream",
     "text": [
      "true\n"
     ]
    }
   ],
   "source": [
    "response = client.chat.completions.create(\n",
    "    model=\"gpt-4o-mini\",\n",
    "    messages=[\n",
    "        {\"role\": \"system\", \"content\": \"入力がAIに関係するか回答してください。\"},\n",
    "        {\"role\": \"system\", \"name\": \"example_user\", \"content\": \"AIの進化はすごい\"},\n",
    "        {\"role\": \"system\", \"name\": \"example_assistant\", \"content\": \"true\"},\n",
    "        {\"role\": \"system\", \"name\": \"example_user\", \"content\": \"今日は良い天気だ\"},\n",
    "        {\"role\": \"system\", \"name\": \"example_assistant\", \"content\": \"false\"},\n",
    "        {\"role\": \"user\", \"content\": \"ChatGPTはとても便利だ\"},\n",
    "    ],\n",
    ")\n",
    "print(response.choices[0].message.content)"
   ]
  },
  {
   "cell_type": "markdown",
   "metadata": {},
   "source": [
    "### Zero-shot Chain-of-Thought プロンプティング\n"
   ]
  },
  {
   "cell_type": "code",
   "execution_count": 16,
   "metadata": {},
   "outputs": [
    {
     "name": "stdout",
     "output_type": "stream",
     "text": [
      "10\n"
     ]
    }
   ],
   "source": [
    "response = client.chat.completions.create(\n",
    "    model=\"gpt-4o-mini\",\n",
    "    messages=[\n",
    "        {\"role\": \"system\", \"content\": \"回答だけ一言で出力してください。\"},\n",
    "        {\"role\": \"user\", \"content\": \"10 + 2 * 3 - 4 * 2\"},\n",
    "    ],\n",
    ")\n",
    "print(response.choices[0].message.content)"
   ]
  },
  {
   "cell_type": "code",
   "execution_count": 17,
   "metadata": {},
   "outputs": [
    {
     "name": "stdout",
     "output_type": "stream",
     "text": [
      "数式をステップバイステップで解いてみましょう。\n",
      "\n",
      "数式: 10 + 2 * 3 - 4 * 2\n",
      "\n",
      "1. まずは掛け算を先に計算します。\n",
      "   - 2 * 3 = 6\n",
      "   - 4 * 2 = 8\n",
      "\n",
      "2. 次に、数式を更新します。\n",
      "   - 10 + 6 - 8\n",
      "\n",
      "3. 次に、左から右に足し算と引き算を行います。\n",
      "   - 10 + 6 = 16\n",
      "   - 16 - 8 = 8\n",
      "\n",
      "したがって、10 + 2 * 3 - 4 * 2 の答えは **8** です。\n"
     ]
    }
   ],
   "source": [
    "response = client.chat.completions.create(\n",
    "    model=\"gpt-4o-mini\",\n",
    "    messages=[\n",
    "        {\"role\": \"system\", \"content\": \"ステップバイステップで考えてください。\"},\n",
    "        {\"role\": \"user\", \"content\": \"10 + 2 * 3 - 4 * 2\"},\n",
    "    ],\n",
    ")\n",
    "print(response.choices[0].message.content)"
   ]
  },
  {
   "cell_type": "code",
   "execution_count": null,
   "metadata": {},
   "outputs": [],
   "source": []
  }
 ],
 "metadata": {
  "kernelspec": {
   "display_name": ".venv",
   "language": "python",
   "name": "python3"
  },
  "language_info": {
   "codemirror_mode": {
    "name": "ipython",
    "version": 3
   },
   "file_extension": ".py",
   "mimetype": "text/x-python",
   "name": "python",
   "nbconvert_exporter": "python",
   "pygments_lexer": "ipython3",
   "version": "3.10.12"
  }
 },
 "nbformat": 4,
 "nbformat_minor": 2
}
